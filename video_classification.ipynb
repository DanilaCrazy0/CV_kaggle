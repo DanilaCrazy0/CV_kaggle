{
  "metadata": {
    "kernelspec": {
      "display_name": "Python 3",
      "name": "python3"
    },
    "language_info": {
      "name": "python",
      "version": "3.11.11",
      "mimetype": "text/x-python",
      "codemirror_mode": {
        "name": "ipython",
        "version": 3
      },
      "pygments_lexer": "ipython3",
      "nbconvert_exporter": "python",
      "file_extension": ".py"
    },
    "kaggle": {
      "accelerator": "nvidiaTeslaT4",
      "dataSources": [
        {
          "sourceId": 11439346,
          "sourceType": "datasetVersion",
          "datasetId": 7165767
        }
      ],
      "dockerImageVersionId": 31012,
      "isInternetEnabled": true,
      "language": "python",
      "sourceType": "notebook",
      "isGpuEnabled": true
    },
    "colab": {
      "provenance": [],
      "gpuType": "T4"
    },
    "accelerator": "GPU",
    "widgets": {
      "application/vnd.jupyter.widget-state+json": {
        "ec0955347c1a4d2a8bd2231aa9b05dce": {
          "model_module": "@jupyter-widgets/controls",
          "model_name": "VBoxModel",
          "model_module_version": "1.5.0",
          "state": {
            "_dom_classes": [],
            "_model_module": "@jupyter-widgets/controls",
            "_model_module_version": "1.5.0",
            "_model_name": "VBoxModel",
            "_view_count": null,
            "_view_module": "@jupyter-widgets/controls",
            "_view_module_version": "1.5.0",
            "_view_name": "VBoxView",
            "box_style": "",
            "children": [
              "IPY_MODEL_4df7cac7a56f4d2db76e554ef831c9e9"
            ],
            "layout": "IPY_MODEL_0a991792188545d0a2d7ea43da75fd53"
          }
        },
        "9bd81a7dad7a4034aafb02d672e0fa43": {
          "model_module": "@jupyter-widgets/controls",
          "model_name": "HTMLModel",
          "model_module_version": "1.5.0",
          "state": {
            "_dom_classes": [],
            "_model_module": "@jupyter-widgets/controls",
            "_model_module_version": "1.5.0",
            "_model_name": "HTMLModel",
            "_view_count": null,
            "_view_module": "@jupyter-widgets/controls",
            "_view_module_version": "1.5.0",
            "_view_name": "HTMLView",
            "description": "",
            "description_tooltip": null,
            "layout": "IPY_MODEL_8f2876b9f73749b385d1debc15ef5de6",
            "placeholder": "​",
            "style": "IPY_MODEL_822ea65e22b64628b80aff300bdccb58",
            "value": "<center> <img\nsrc=https://www.kaggle.com/static/images/site-logo.png\nalt='Kaggle'> <br> Create an API token from <a\nhref=\"https://www.kaggle.com/settings/account\" target=\"_blank\">your Kaggle\nsettings page</a> and paste it below along with your Kaggle username. <br> </center>"
          }
        },
        "176cc21ba67144008145f94d309550a6": {
          "model_module": "@jupyter-widgets/controls",
          "model_name": "TextModel",
          "model_module_version": "1.5.0",
          "state": {
            "_dom_classes": [],
            "_model_module": "@jupyter-widgets/controls",
            "_model_module_version": "1.5.0",
            "_model_name": "TextModel",
            "_view_count": null,
            "_view_module": "@jupyter-widgets/controls",
            "_view_module_version": "1.5.0",
            "_view_name": "TextView",
            "continuous_update": true,
            "description": "Username:",
            "description_tooltip": null,
            "disabled": false,
            "layout": "IPY_MODEL_78306ce0cc764f3d9f274cbf123d33f3",
            "placeholder": "​",
            "style": "IPY_MODEL_9bd97b3f53fa4195846062d018ae0749",
            "value": "samyanis"
          }
        },
        "4a637c478ee5427fac2e0107c7c74489": {
          "model_module": "@jupyter-widgets/controls",
          "model_name": "PasswordModel",
          "model_module_version": "1.5.0",
          "state": {
            "_dom_classes": [],
            "_model_module": "@jupyter-widgets/controls",
            "_model_module_version": "1.5.0",
            "_model_name": "PasswordModel",
            "_view_count": null,
            "_view_module": "@jupyter-widgets/controls",
            "_view_module_version": "1.5.0",
            "_view_name": "PasswordView",
            "continuous_update": true,
            "description": "Token:",
            "description_tooltip": null,
            "disabled": false,
            "layout": "IPY_MODEL_41df7eb022d4471ba66df93e612574ed",
            "placeholder": "​",
            "style": "IPY_MODEL_a320b0f47c3941e99b4977de2d1fb509",
            "value": ""
          }
        },
        "a88c2f949d8f4777ab5e8e467c97b246": {
          "model_module": "@jupyter-widgets/controls",
          "model_name": "ButtonModel",
          "model_module_version": "1.5.0",
          "state": {
            "_dom_classes": [],
            "_model_module": "@jupyter-widgets/controls",
            "_model_module_version": "1.5.0",
            "_model_name": "ButtonModel",
            "_view_count": null,
            "_view_module": "@jupyter-widgets/controls",
            "_view_module_version": "1.5.0",
            "_view_name": "ButtonView",
            "button_style": "",
            "description": "Login",
            "disabled": false,
            "icon": "",
            "layout": "IPY_MODEL_da25600bce9a4734b37ce908c8a0e0ae",
            "style": "IPY_MODEL_f14866905e4044bca3dd53a761daf8a6",
            "tooltip": ""
          }
        },
        "879e9782b6a84e4eaa25c835471d24ad": {
          "model_module": "@jupyter-widgets/controls",
          "model_name": "HTMLModel",
          "model_module_version": "1.5.0",
          "state": {
            "_dom_classes": [],
            "_model_module": "@jupyter-widgets/controls",
            "_model_module_version": "1.5.0",
            "_model_name": "HTMLModel",
            "_view_count": null,
            "_view_module": "@jupyter-widgets/controls",
            "_view_module_version": "1.5.0",
            "_view_name": "HTMLView",
            "description": "",
            "description_tooltip": null,
            "layout": "IPY_MODEL_ec7fe9ddd8ff4fdc884e2ebf63acb187",
            "placeholder": "​",
            "style": "IPY_MODEL_b2de3f80070642c3b88864f410fc0166",
            "value": "\n<b>Thank You</b></center>"
          }
        },
        "0a991792188545d0a2d7ea43da75fd53": {
          "model_module": "@jupyter-widgets/base",
          "model_name": "LayoutModel",
          "model_module_version": "1.2.0",
          "state": {
            "_model_module": "@jupyter-widgets/base",
            "_model_module_version": "1.2.0",
            "_model_name": "LayoutModel",
            "_view_count": null,
            "_view_module": "@jupyter-widgets/base",
            "_view_module_version": "1.2.0",
            "_view_name": "LayoutView",
            "align_content": null,
            "align_items": "center",
            "align_self": null,
            "border": null,
            "bottom": null,
            "display": "flex",
            "flex": null,
            "flex_flow": "column",
            "grid_area": null,
            "grid_auto_columns": null,
            "grid_auto_flow": null,
            "grid_auto_rows": null,
            "grid_column": null,
            "grid_gap": null,
            "grid_row": null,
            "grid_template_areas": null,
            "grid_template_columns": null,
            "grid_template_rows": null,
            "height": null,
            "justify_content": null,
            "justify_items": null,
            "left": null,
            "margin": null,
            "max_height": null,
            "max_width": null,
            "min_height": null,
            "min_width": null,
            "object_fit": null,
            "object_position": null,
            "order": null,
            "overflow": null,
            "overflow_x": null,
            "overflow_y": null,
            "padding": null,
            "right": null,
            "top": null,
            "visibility": null,
            "width": "50%"
          }
        },
        "8f2876b9f73749b385d1debc15ef5de6": {
          "model_module": "@jupyter-widgets/base",
          "model_name": "LayoutModel",
          "model_module_version": "1.2.0",
          "state": {
            "_model_module": "@jupyter-widgets/base",
            "_model_module_version": "1.2.0",
            "_model_name": "LayoutModel",
            "_view_count": null,
            "_view_module": "@jupyter-widgets/base",
            "_view_module_version": "1.2.0",
            "_view_name": "LayoutView",
            "align_content": null,
            "align_items": null,
            "align_self": null,
            "border": null,
            "bottom": null,
            "display": null,
            "flex": null,
            "flex_flow": null,
            "grid_area": null,
            "grid_auto_columns": null,
            "grid_auto_flow": null,
            "grid_auto_rows": null,
            "grid_column": null,
            "grid_gap": null,
            "grid_row": null,
            "grid_template_areas": null,
            "grid_template_columns": null,
            "grid_template_rows": null,
            "height": null,
            "justify_content": null,
            "justify_items": null,
            "left": null,
            "margin": null,
            "max_height": null,
            "max_width": null,
            "min_height": null,
            "min_width": null,
            "object_fit": null,
            "object_position": null,
            "order": null,
            "overflow": null,
            "overflow_x": null,
            "overflow_y": null,
            "padding": null,
            "right": null,
            "top": null,
            "visibility": null,
            "width": null
          }
        },
        "822ea65e22b64628b80aff300bdccb58": {
          "model_module": "@jupyter-widgets/controls",
          "model_name": "DescriptionStyleModel",
          "model_module_version": "1.5.0",
          "state": {
            "_model_module": "@jupyter-widgets/controls",
            "_model_module_version": "1.5.0",
            "_model_name": "DescriptionStyleModel",
            "_view_count": null,
            "_view_module": "@jupyter-widgets/base",
            "_view_module_version": "1.2.0",
            "_view_name": "StyleView",
            "description_width": ""
          }
        },
        "78306ce0cc764f3d9f274cbf123d33f3": {
          "model_module": "@jupyter-widgets/base",
          "model_name": "LayoutModel",
          "model_module_version": "1.2.0",
          "state": {
            "_model_module": "@jupyter-widgets/base",
            "_model_module_version": "1.2.0",
            "_model_name": "LayoutModel",
            "_view_count": null,
            "_view_module": "@jupyter-widgets/base",
            "_view_module_version": "1.2.0",
            "_view_name": "LayoutView",
            "align_content": null,
            "align_items": null,
            "align_self": null,
            "border": null,
            "bottom": null,
            "display": null,
            "flex": null,
            "flex_flow": null,
            "grid_area": null,
            "grid_auto_columns": null,
            "grid_auto_flow": null,
            "grid_auto_rows": null,
            "grid_column": null,
            "grid_gap": null,
            "grid_row": null,
            "grid_template_areas": null,
            "grid_template_columns": null,
            "grid_template_rows": null,
            "height": null,
            "justify_content": null,
            "justify_items": null,
            "left": null,
            "margin": null,
            "max_height": null,
            "max_width": null,
            "min_height": null,
            "min_width": null,
            "object_fit": null,
            "object_position": null,
            "order": null,
            "overflow": null,
            "overflow_x": null,
            "overflow_y": null,
            "padding": null,
            "right": null,
            "top": null,
            "visibility": null,
            "width": null
          }
        },
        "9bd97b3f53fa4195846062d018ae0749": {
          "model_module": "@jupyter-widgets/controls",
          "model_name": "DescriptionStyleModel",
          "model_module_version": "1.5.0",
          "state": {
            "_model_module": "@jupyter-widgets/controls",
            "_model_module_version": "1.5.0",
            "_model_name": "DescriptionStyleModel",
            "_view_count": null,
            "_view_module": "@jupyter-widgets/base",
            "_view_module_version": "1.2.0",
            "_view_name": "StyleView",
            "description_width": ""
          }
        },
        "41df7eb022d4471ba66df93e612574ed": {
          "model_module": "@jupyter-widgets/base",
          "model_name": "LayoutModel",
          "model_module_version": "1.2.0",
          "state": {
            "_model_module": "@jupyter-widgets/base",
            "_model_module_version": "1.2.0",
            "_model_name": "LayoutModel",
            "_view_count": null,
            "_view_module": "@jupyter-widgets/base",
            "_view_module_version": "1.2.0",
            "_view_name": "LayoutView",
            "align_content": null,
            "align_items": null,
            "align_self": null,
            "border": null,
            "bottom": null,
            "display": null,
            "flex": null,
            "flex_flow": null,
            "grid_area": null,
            "grid_auto_columns": null,
            "grid_auto_flow": null,
            "grid_auto_rows": null,
            "grid_column": null,
            "grid_gap": null,
            "grid_row": null,
            "grid_template_areas": null,
            "grid_template_columns": null,
            "grid_template_rows": null,
            "height": null,
            "justify_content": null,
            "justify_items": null,
            "left": null,
            "margin": null,
            "max_height": null,
            "max_width": null,
            "min_height": null,
            "min_width": null,
            "object_fit": null,
            "object_position": null,
            "order": null,
            "overflow": null,
            "overflow_x": null,
            "overflow_y": null,
            "padding": null,
            "right": null,
            "top": null,
            "visibility": null,
            "width": null
          }
        },
        "a320b0f47c3941e99b4977de2d1fb509": {
          "model_module": "@jupyter-widgets/controls",
          "model_name": "DescriptionStyleModel",
          "model_module_version": "1.5.0",
          "state": {
            "_model_module": "@jupyter-widgets/controls",
            "_model_module_version": "1.5.0",
            "_model_name": "DescriptionStyleModel",
            "_view_count": null,
            "_view_module": "@jupyter-widgets/base",
            "_view_module_version": "1.2.0",
            "_view_name": "StyleView",
            "description_width": ""
          }
        },
        "da25600bce9a4734b37ce908c8a0e0ae": {
          "model_module": "@jupyter-widgets/base",
          "model_name": "LayoutModel",
          "model_module_version": "1.2.0",
          "state": {
            "_model_module": "@jupyter-widgets/base",
            "_model_module_version": "1.2.0",
            "_model_name": "LayoutModel",
            "_view_count": null,
            "_view_module": "@jupyter-widgets/base",
            "_view_module_version": "1.2.0",
            "_view_name": "LayoutView",
            "align_content": null,
            "align_items": null,
            "align_self": null,
            "border": null,
            "bottom": null,
            "display": null,
            "flex": null,
            "flex_flow": null,
            "grid_area": null,
            "grid_auto_columns": null,
            "grid_auto_flow": null,
            "grid_auto_rows": null,
            "grid_column": null,
            "grid_gap": null,
            "grid_row": null,
            "grid_template_areas": null,
            "grid_template_columns": null,
            "grid_template_rows": null,
            "height": null,
            "justify_content": null,
            "justify_items": null,
            "left": null,
            "margin": null,
            "max_height": null,
            "max_width": null,
            "min_height": null,
            "min_width": null,
            "object_fit": null,
            "object_position": null,
            "order": null,
            "overflow": null,
            "overflow_x": null,
            "overflow_y": null,
            "padding": null,
            "right": null,
            "top": null,
            "visibility": null,
            "width": null
          }
        },
        "f14866905e4044bca3dd53a761daf8a6": {
          "model_module": "@jupyter-widgets/controls",
          "model_name": "ButtonStyleModel",
          "model_module_version": "1.5.0",
          "state": {
            "_model_module": "@jupyter-widgets/controls",
            "_model_module_version": "1.5.0",
            "_model_name": "ButtonStyleModel",
            "_view_count": null,
            "_view_module": "@jupyter-widgets/base",
            "_view_module_version": "1.2.0",
            "_view_name": "StyleView",
            "button_color": null,
            "font_weight": ""
          }
        },
        "ec7fe9ddd8ff4fdc884e2ebf63acb187": {
          "model_module": "@jupyter-widgets/base",
          "model_name": "LayoutModel",
          "model_module_version": "1.2.0",
          "state": {
            "_model_module": "@jupyter-widgets/base",
            "_model_module_version": "1.2.0",
            "_model_name": "LayoutModel",
            "_view_count": null,
            "_view_module": "@jupyter-widgets/base",
            "_view_module_version": "1.2.0",
            "_view_name": "LayoutView",
            "align_content": null,
            "align_items": null,
            "align_self": null,
            "border": null,
            "bottom": null,
            "display": null,
            "flex": null,
            "flex_flow": null,
            "grid_area": null,
            "grid_auto_columns": null,
            "grid_auto_flow": null,
            "grid_auto_rows": null,
            "grid_column": null,
            "grid_gap": null,
            "grid_row": null,
            "grid_template_areas": null,
            "grid_template_columns": null,
            "grid_template_rows": null,
            "height": null,
            "justify_content": null,
            "justify_items": null,
            "left": null,
            "margin": null,
            "max_height": null,
            "max_width": null,
            "min_height": null,
            "min_width": null,
            "object_fit": null,
            "object_position": null,
            "order": null,
            "overflow": null,
            "overflow_x": null,
            "overflow_y": null,
            "padding": null,
            "right": null,
            "top": null,
            "visibility": null,
            "width": null
          }
        },
        "b2de3f80070642c3b88864f410fc0166": {
          "model_module": "@jupyter-widgets/controls",
          "model_name": "DescriptionStyleModel",
          "model_module_version": "1.5.0",
          "state": {
            "_model_module": "@jupyter-widgets/controls",
            "_model_module_version": "1.5.0",
            "_model_name": "DescriptionStyleModel",
            "_view_count": null,
            "_view_module": "@jupyter-widgets/base",
            "_view_module_version": "1.2.0",
            "_view_name": "StyleView",
            "description_width": ""
          }
        },
        "6f3ddb0c024a4441ae1ea6fdccb38dc7": {
          "model_module": "@jupyter-widgets/controls",
          "model_name": "LabelModel",
          "model_module_version": "1.5.0",
          "state": {
            "_dom_classes": [],
            "_model_module": "@jupyter-widgets/controls",
            "_model_module_version": "1.5.0",
            "_model_name": "LabelModel",
            "_view_count": null,
            "_view_module": "@jupyter-widgets/controls",
            "_view_module_version": "1.5.0",
            "_view_name": "LabelView",
            "description": "",
            "description_tooltip": null,
            "layout": "IPY_MODEL_9bd74d7071ce41f08a4c210271b5db6a",
            "placeholder": "​",
            "style": "IPY_MODEL_b418e42101ca452c9ec3370cfc8e12ab",
            "value": "Connecting..."
          }
        },
        "9bd74d7071ce41f08a4c210271b5db6a": {
          "model_module": "@jupyter-widgets/base",
          "model_name": "LayoutModel",
          "model_module_version": "1.2.0",
          "state": {
            "_model_module": "@jupyter-widgets/base",
            "_model_module_version": "1.2.0",
            "_model_name": "LayoutModel",
            "_view_count": null,
            "_view_module": "@jupyter-widgets/base",
            "_view_module_version": "1.2.0",
            "_view_name": "LayoutView",
            "align_content": null,
            "align_items": null,
            "align_self": null,
            "border": null,
            "bottom": null,
            "display": null,
            "flex": null,
            "flex_flow": null,
            "grid_area": null,
            "grid_auto_columns": null,
            "grid_auto_flow": null,
            "grid_auto_rows": null,
            "grid_column": null,
            "grid_gap": null,
            "grid_row": null,
            "grid_template_areas": null,
            "grid_template_columns": null,
            "grid_template_rows": null,
            "height": null,
            "justify_content": null,
            "justify_items": null,
            "left": null,
            "margin": null,
            "max_height": null,
            "max_width": null,
            "min_height": null,
            "min_width": null,
            "object_fit": null,
            "object_position": null,
            "order": null,
            "overflow": null,
            "overflow_x": null,
            "overflow_y": null,
            "padding": null,
            "right": null,
            "top": null,
            "visibility": null,
            "width": null
          }
        },
        "b418e42101ca452c9ec3370cfc8e12ab": {
          "model_module": "@jupyter-widgets/controls",
          "model_name": "DescriptionStyleModel",
          "model_module_version": "1.5.0",
          "state": {
            "_model_module": "@jupyter-widgets/controls",
            "_model_module_version": "1.5.0",
            "_model_name": "DescriptionStyleModel",
            "_view_count": null,
            "_view_module": "@jupyter-widgets/base",
            "_view_module_version": "1.2.0",
            "_view_name": "StyleView",
            "description_width": ""
          }
        },
        "4df7cac7a56f4d2db76e554ef831c9e9": {
          "model_module": "@jupyter-widgets/controls",
          "model_name": "LabelModel",
          "model_module_version": "1.5.0",
          "state": {
            "_dom_classes": [],
            "_model_module": "@jupyter-widgets/controls",
            "_model_module_version": "1.5.0",
            "_model_name": "LabelModel",
            "_view_count": null,
            "_view_module": "@jupyter-widgets/controls",
            "_view_module_version": "1.5.0",
            "_view_name": "LabelView",
            "description": "",
            "description_tooltip": null,
            "layout": "IPY_MODEL_6d872fa1d56c4a55be67adf90c527987",
            "placeholder": "​",
            "style": "IPY_MODEL_62c6888372f64534b1cea719e63bc862",
            "value": "Kaggle credentials successfully validated."
          }
        },
        "6d872fa1d56c4a55be67adf90c527987": {
          "model_module": "@jupyter-widgets/base",
          "model_name": "LayoutModel",
          "model_module_version": "1.2.0",
          "state": {
            "_model_module": "@jupyter-widgets/base",
            "_model_module_version": "1.2.0",
            "_model_name": "LayoutModel",
            "_view_count": null,
            "_view_module": "@jupyter-widgets/base",
            "_view_module_version": "1.2.0",
            "_view_name": "LayoutView",
            "align_content": null,
            "align_items": null,
            "align_self": null,
            "border": null,
            "bottom": null,
            "display": null,
            "flex": null,
            "flex_flow": null,
            "grid_area": null,
            "grid_auto_columns": null,
            "grid_auto_flow": null,
            "grid_auto_rows": null,
            "grid_column": null,
            "grid_gap": null,
            "grid_row": null,
            "grid_template_areas": null,
            "grid_template_columns": null,
            "grid_template_rows": null,
            "height": null,
            "justify_content": null,
            "justify_items": null,
            "left": null,
            "margin": null,
            "max_height": null,
            "max_width": null,
            "min_height": null,
            "min_width": null,
            "object_fit": null,
            "object_position": null,
            "order": null,
            "overflow": null,
            "overflow_x": null,
            "overflow_y": null,
            "padding": null,
            "right": null,
            "top": null,
            "visibility": null,
            "width": null
          }
        },
        "62c6888372f64534b1cea719e63bc862": {
          "model_module": "@jupyter-widgets/controls",
          "model_name": "DescriptionStyleModel",
          "model_module_version": "1.5.0",
          "state": {
            "_model_module": "@jupyter-widgets/controls",
            "_model_module_version": "1.5.0",
            "_model_name": "DescriptionStyleModel",
            "_view_count": null,
            "_view_module": "@jupyter-widgets/base",
            "_view_module_version": "1.2.0",
            "_view_name": "StyleView",
            "description_width": ""
          }
        },
        "f112fe98e400424caa3f451e773ff522": {
          "model_module": "@jupyter-widgets/controls",
          "model_name": "HBoxModel",
          "model_module_version": "1.5.0",
          "state": {
            "_dom_classes": [],
            "_model_module": "@jupyter-widgets/controls",
            "_model_module_version": "1.5.0",
            "_model_name": "HBoxModel",
            "_view_count": null,
            "_view_module": "@jupyter-widgets/controls",
            "_view_module_version": "1.5.0",
            "_view_name": "HBoxView",
            "box_style": "",
            "children": [
              "IPY_MODEL_426ecdb0d55445468edf56ae7d9362c1",
              "IPY_MODEL_28d4dbb3923b43aa90ea389625a5520d",
              "IPY_MODEL_e88f8f4c130845189fd795cfe3e63022"
            ],
            "layout": "IPY_MODEL_e8c27ec539ca4b76a8d8f5e97bc2ea17"
          }
        },
        "426ecdb0d55445468edf56ae7d9362c1": {
          "model_module": "@jupyter-widgets/controls",
          "model_name": "HTMLModel",
          "model_module_version": "1.5.0",
          "state": {
            "_dom_classes": [],
            "_model_module": "@jupyter-widgets/controls",
            "_model_module_version": "1.5.0",
            "_model_name": "HTMLModel",
            "_view_count": null,
            "_view_module": "@jupyter-widgets/controls",
            "_view_module_version": "1.5.0",
            "_view_name": "HTMLView",
            "description": "",
            "description_tooltip": null,
            "layout": "IPY_MODEL_1fa16ef2eb70461aa6f7b1d6625dc4f1",
            "placeholder": "​",
            "style": "IPY_MODEL_3b05fde0d9954ffc99f0099f33e8bd05",
            "value": "100%"
          }
        },
        "28d4dbb3923b43aa90ea389625a5520d": {
          "model_module": "@jupyter-widgets/controls",
          "model_name": "FloatProgressModel",
          "model_module_version": "1.5.0",
          "state": {
            "_dom_classes": [],
            "_model_module": "@jupyter-widgets/controls",
            "_model_module_version": "1.5.0",
            "_model_name": "FloatProgressModel",
            "_view_count": null,
            "_view_module": "@jupyter-widgets/controls",
            "_view_module_version": "1.5.0",
            "_view_name": "ProgressView",
            "bar_style": "success",
            "description": "",
            "description_tooltip": null,
            "layout": "IPY_MODEL_b74e5fb649b840f3b8289c267bb7c42f",
            "max": 329,
            "min": 0,
            "orientation": "horizontal",
            "style": "IPY_MODEL_407c3a4850fd4a90bf967b7b28b8c67f",
            "value": 329
          }
        },
        "e88f8f4c130845189fd795cfe3e63022": {
          "model_module": "@jupyter-widgets/controls",
          "model_name": "HTMLModel",
          "model_module_version": "1.5.0",
          "state": {
            "_dom_classes": [],
            "_model_module": "@jupyter-widgets/controls",
            "_model_module_version": "1.5.0",
            "_model_name": "HTMLModel",
            "_view_count": null,
            "_view_module": "@jupyter-widgets/controls",
            "_view_module_version": "1.5.0",
            "_view_name": "HTMLView",
            "description": "",
            "description_tooltip": null,
            "layout": "IPY_MODEL_04863a8a40354da5b70b1135ca198e9c",
            "placeholder": "​",
            "style": "IPY_MODEL_61abc4cc040647d8ae27f9cc4b32a9f9",
            "value": " 329/329 [01:13&lt;00:00,  2.75it/s]"
          }
        },
        "e8c27ec539ca4b76a8d8f5e97bc2ea17": {
          "model_module": "@jupyter-widgets/base",
          "model_name": "LayoutModel",
          "model_module_version": "1.2.0",
          "state": {
            "_model_module": "@jupyter-widgets/base",
            "_model_module_version": "1.2.0",
            "_model_name": "LayoutModel",
            "_view_count": null,
            "_view_module": "@jupyter-widgets/base",
            "_view_module_version": "1.2.0",
            "_view_name": "LayoutView",
            "align_content": null,
            "align_items": null,
            "align_self": null,
            "border": null,
            "bottom": null,
            "display": null,
            "flex": null,
            "flex_flow": null,
            "grid_area": null,
            "grid_auto_columns": null,
            "grid_auto_flow": null,
            "grid_auto_rows": null,
            "grid_column": null,
            "grid_gap": null,
            "grid_row": null,
            "grid_template_areas": null,
            "grid_template_columns": null,
            "grid_template_rows": null,
            "height": null,
            "justify_content": null,
            "justify_items": null,
            "left": null,
            "margin": null,
            "max_height": null,
            "max_width": null,
            "min_height": null,
            "min_width": null,
            "object_fit": null,
            "object_position": null,
            "order": null,
            "overflow": null,
            "overflow_x": null,
            "overflow_y": null,
            "padding": null,
            "right": null,
            "top": null,
            "visibility": null,
            "width": null
          }
        },
        "1fa16ef2eb70461aa6f7b1d6625dc4f1": {
          "model_module": "@jupyter-widgets/base",
          "model_name": "LayoutModel",
          "model_module_version": "1.2.0",
          "state": {
            "_model_module": "@jupyter-widgets/base",
            "_model_module_version": "1.2.0",
            "_model_name": "LayoutModel",
            "_view_count": null,
            "_view_module": "@jupyter-widgets/base",
            "_view_module_version": "1.2.0",
            "_view_name": "LayoutView",
            "align_content": null,
            "align_items": null,
            "align_self": null,
            "border": null,
            "bottom": null,
            "display": null,
            "flex": null,
            "flex_flow": null,
            "grid_area": null,
            "grid_auto_columns": null,
            "grid_auto_flow": null,
            "grid_auto_rows": null,
            "grid_column": null,
            "grid_gap": null,
            "grid_row": null,
            "grid_template_areas": null,
            "grid_template_columns": null,
            "grid_template_rows": null,
            "height": null,
            "justify_content": null,
            "justify_items": null,
            "left": null,
            "margin": null,
            "max_height": null,
            "max_width": null,
            "min_height": null,
            "min_width": null,
            "object_fit": null,
            "object_position": null,
            "order": null,
            "overflow": null,
            "overflow_x": null,
            "overflow_y": null,
            "padding": null,
            "right": null,
            "top": null,
            "visibility": null,
            "width": null
          }
        },
        "3b05fde0d9954ffc99f0099f33e8bd05": {
          "model_module": "@jupyter-widgets/controls",
          "model_name": "DescriptionStyleModel",
          "model_module_version": "1.5.0",
          "state": {
            "_model_module": "@jupyter-widgets/controls",
            "_model_module_version": "1.5.0",
            "_model_name": "DescriptionStyleModel",
            "_view_count": null,
            "_view_module": "@jupyter-widgets/base",
            "_view_module_version": "1.2.0",
            "_view_name": "StyleView",
            "description_width": ""
          }
        },
        "b74e5fb649b840f3b8289c267bb7c42f": {
          "model_module": "@jupyter-widgets/base",
          "model_name": "LayoutModel",
          "model_module_version": "1.2.0",
          "state": {
            "_model_module": "@jupyter-widgets/base",
            "_model_module_version": "1.2.0",
            "_model_name": "LayoutModel",
            "_view_count": null,
            "_view_module": "@jupyter-widgets/base",
            "_view_module_version": "1.2.0",
            "_view_name": "LayoutView",
            "align_content": null,
            "align_items": null,
            "align_self": null,
            "border": null,
            "bottom": null,
            "display": null,
            "flex": null,
            "flex_flow": null,
            "grid_area": null,
            "grid_auto_columns": null,
            "grid_auto_flow": null,
            "grid_auto_rows": null,
            "grid_column": null,
            "grid_gap": null,
            "grid_row": null,
            "grid_template_areas": null,
            "grid_template_columns": null,
            "grid_template_rows": null,
            "height": null,
            "justify_content": null,
            "justify_items": null,
            "left": null,
            "margin": null,
            "max_height": null,
            "max_width": null,
            "min_height": null,
            "min_width": null,
            "object_fit": null,
            "object_position": null,
            "order": null,
            "overflow": null,
            "overflow_x": null,
            "overflow_y": null,
            "padding": null,
            "right": null,
            "top": null,
            "visibility": null,
            "width": null
          }
        },
        "407c3a4850fd4a90bf967b7b28b8c67f": {
          "model_module": "@jupyter-widgets/controls",
          "model_name": "ProgressStyleModel",
          "model_module_version": "1.5.0",
          "state": {
            "_model_module": "@jupyter-widgets/controls",
            "_model_module_version": "1.5.0",
            "_model_name": "ProgressStyleModel",
            "_view_count": null,
            "_view_module": "@jupyter-widgets/base",
            "_view_module_version": "1.2.0",
            "_view_name": "StyleView",
            "bar_color": null,
            "description_width": ""
          }
        },
        "04863a8a40354da5b70b1135ca198e9c": {
          "model_module": "@jupyter-widgets/base",
          "model_name": "LayoutModel",
          "model_module_version": "1.2.0",
          "state": {
            "_model_module": "@jupyter-widgets/base",
            "_model_module_version": "1.2.0",
            "_model_name": "LayoutModel",
            "_view_count": null,
            "_view_module": "@jupyter-widgets/base",
            "_view_module_version": "1.2.0",
            "_view_name": "LayoutView",
            "align_content": null,
            "align_items": null,
            "align_self": null,
            "border": null,
            "bottom": null,
            "display": null,
            "flex": null,
            "flex_flow": null,
            "grid_area": null,
            "grid_auto_columns": null,
            "grid_auto_flow": null,
            "grid_auto_rows": null,
            "grid_column": null,
            "grid_gap": null,
            "grid_row": null,
            "grid_template_areas": null,
            "grid_template_columns": null,
            "grid_template_rows": null,
            "height": null,
            "justify_content": null,
            "justify_items": null,
            "left": null,
            "margin": null,
            "max_height": null,
            "max_width": null,
            "min_height": null,
            "min_width": null,
            "object_fit": null,
            "object_position": null,
            "order": null,
            "overflow": null,
            "overflow_x": null,
            "overflow_y": null,
            "padding": null,
            "right": null,
            "top": null,
            "visibility": null,
            "width": null
          }
        },
        "61abc4cc040647d8ae27f9cc4b32a9f9": {
          "model_module": "@jupyter-widgets/controls",
          "model_name": "DescriptionStyleModel",
          "model_module_version": "1.5.0",
          "state": {
            "_model_module": "@jupyter-widgets/controls",
            "_model_module_version": "1.5.0",
            "_model_name": "DescriptionStyleModel",
            "_view_count": null,
            "_view_module": "@jupyter-widgets/base",
            "_view_module_version": "1.2.0",
            "_view_name": "StyleView",
            "description_width": ""
          }
        },
        "33d8c7320a02496f9db7dc8bdd301f1a": {
          "model_module": "@jupyter-widgets/controls",
          "model_name": "HBoxModel",
          "model_module_version": "1.5.0",
          "state": {
            "_dom_classes": [],
            "_model_module": "@jupyter-widgets/controls",
            "_model_module_version": "1.5.0",
            "_model_name": "HBoxModel",
            "_view_count": null,
            "_view_module": "@jupyter-widgets/controls",
            "_view_module_version": "1.5.0",
            "_view_name": "HBoxView",
            "box_style": "",
            "children": [
              "IPY_MODEL_55bfdf2cd8e848c68ed2f8683bf44fce",
              "IPY_MODEL_06c7e9100eaf4d8eb8e1331c9997f316",
              "IPY_MODEL_242132dd4c0349879ac5888eaa2e88da"
            ],
            "layout": "IPY_MODEL_76788068676f4837ae0b6d238a3a2718"
          }
        },
        "55bfdf2cd8e848c68ed2f8683bf44fce": {
          "model_module": "@jupyter-widgets/controls",
          "model_name": "HTMLModel",
          "model_module_version": "1.5.0",
          "state": {
            "_dom_classes": [],
            "_model_module": "@jupyter-widgets/controls",
            "_model_module_version": "1.5.0",
            "_model_name": "HTMLModel",
            "_view_count": null,
            "_view_module": "@jupyter-widgets/controls",
            "_view_module_version": "1.5.0",
            "_view_name": "HTMLView",
            "description": "",
            "description_tooltip": null,
            "layout": "IPY_MODEL_6d453f95e0114d9b9de5393eb040f734",
            "placeholder": "​",
            "style": "IPY_MODEL_91555743fa934bfca90925aa42adb011",
            "value": "100%"
          }
        },
        "06c7e9100eaf4d8eb8e1331c9997f316": {
          "model_module": "@jupyter-widgets/controls",
          "model_name": "FloatProgressModel",
          "model_module_version": "1.5.0",
          "state": {
            "_dom_classes": [],
            "_model_module": "@jupyter-widgets/controls",
            "_model_module_version": "1.5.0",
            "_model_name": "FloatProgressModel",
            "_view_count": null,
            "_view_module": "@jupyter-widgets/controls",
            "_view_module_version": "1.5.0",
            "_view_name": "ProgressView",
            "bar_style": "success",
            "description": "",
            "description_tooltip": null,
            "layout": "IPY_MODEL_fc5a090289574ecdb3f06cc9768bfea2",
            "max": 82,
            "min": 0,
            "orientation": "horizontal",
            "style": "IPY_MODEL_b16bda45b8d34ef1b959b8ba5a2819d1",
            "value": 82
          }
        },
        "242132dd4c0349879ac5888eaa2e88da": {
          "model_module": "@jupyter-widgets/controls",
          "model_name": "HTMLModel",
          "model_module_version": "1.5.0",
          "state": {
            "_dom_classes": [],
            "_model_module": "@jupyter-widgets/controls",
            "_model_module_version": "1.5.0",
            "_model_name": "HTMLModel",
            "_view_count": null,
            "_view_module": "@jupyter-widgets/controls",
            "_view_module_version": "1.5.0",
            "_view_name": "HTMLView",
            "description": "",
            "description_tooltip": null,
            "layout": "IPY_MODEL_0b7e083b16dd475ab957eafca275fd92",
            "placeholder": "​",
            "style": "IPY_MODEL_7f5c5f9e6ac64214b77c8511ac0e96a4",
            "value": " 82/82 [00:15&lt;00:00,  6.09it/s]"
          }
        },
        "76788068676f4837ae0b6d238a3a2718": {
          "model_module": "@jupyter-widgets/base",
          "model_name": "LayoutModel",
          "model_module_version": "1.2.0",
          "state": {
            "_model_module": "@jupyter-widgets/base",
            "_model_module_version": "1.2.0",
            "_model_name": "LayoutModel",
            "_view_count": null,
            "_view_module": "@jupyter-widgets/base",
            "_view_module_version": "1.2.0",
            "_view_name": "LayoutView",
            "align_content": null,
            "align_items": null,
            "align_self": null,
            "border": null,
            "bottom": null,
            "display": null,
            "flex": null,
            "flex_flow": null,
            "grid_area": null,
            "grid_auto_columns": null,
            "grid_auto_flow": null,
            "grid_auto_rows": null,
            "grid_column": null,
            "grid_gap": null,
            "grid_row": null,
            "grid_template_areas": null,
            "grid_template_columns": null,
            "grid_template_rows": null,
            "height": null,
            "justify_content": null,
            "justify_items": null,
            "left": null,
            "margin": null,
            "max_height": null,
            "max_width": null,
            "min_height": null,
            "min_width": null,
            "object_fit": null,
            "object_position": null,
            "order": null,
            "overflow": null,
            "overflow_x": null,
            "overflow_y": null,
            "padding": null,
            "right": null,
            "top": null,
            "visibility": null,
            "width": null
          }
        },
        "6d453f95e0114d9b9de5393eb040f734": {
          "model_module": "@jupyter-widgets/base",
          "model_name": "LayoutModel",
          "model_module_version": "1.2.0",
          "state": {
            "_model_module": "@jupyter-widgets/base",
            "_model_module_version": "1.2.0",
            "_model_name": "LayoutModel",
            "_view_count": null,
            "_view_module": "@jupyter-widgets/base",
            "_view_module_version": "1.2.0",
            "_view_name": "LayoutView",
            "align_content": null,
            "align_items": null,
            "align_self": null,
            "border": null,
            "bottom": null,
            "display": null,
            "flex": null,
            "flex_flow": null,
            "grid_area": null,
            "grid_auto_columns": null,
            "grid_auto_flow": null,
            "grid_auto_rows": null,
            "grid_column": null,
            "grid_gap": null,
            "grid_row": null,
            "grid_template_areas": null,
            "grid_template_columns": null,
            "grid_template_rows": null,
            "height": null,
            "justify_content": null,
            "justify_items": null,
            "left": null,
            "margin": null,
            "max_height": null,
            "max_width": null,
            "min_height": null,
            "min_width": null,
            "object_fit": null,
            "object_position": null,
            "order": null,
            "overflow": null,
            "overflow_x": null,
            "overflow_y": null,
            "padding": null,
            "right": null,
            "top": null,
            "visibility": null,
            "width": null
          }
        },
        "91555743fa934bfca90925aa42adb011": {
          "model_module": "@jupyter-widgets/controls",
          "model_name": "DescriptionStyleModel",
          "model_module_version": "1.5.0",
          "state": {
            "_model_module": "@jupyter-widgets/controls",
            "_model_module_version": "1.5.0",
            "_model_name": "DescriptionStyleModel",
            "_view_count": null,
            "_view_module": "@jupyter-widgets/base",
            "_view_module_version": "1.2.0",
            "_view_name": "StyleView",
            "description_width": ""
          }
        },
        "fc5a090289574ecdb3f06cc9768bfea2": {
          "model_module": "@jupyter-widgets/base",
          "model_name": "LayoutModel",
          "model_module_version": "1.2.0",
          "state": {
            "_model_module": "@jupyter-widgets/base",
            "_model_module_version": "1.2.0",
            "_model_name": "LayoutModel",
            "_view_count": null,
            "_view_module": "@jupyter-widgets/base",
            "_view_module_version": "1.2.0",
            "_view_name": "LayoutView",
            "align_content": null,
            "align_items": null,
            "align_self": null,
            "border": null,
            "bottom": null,
            "display": null,
            "flex": null,
            "flex_flow": null,
            "grid_area": null,
            "grid_auto_columns": null,
            "grid_auto_flow": null,
            "grid_auto_rows": null,
            "grid_column": null,
            "grid_gap": null,
            "grid_row": null,
            "grid_template_areas": null,
            "grid_template_columns": null,
            "grid_template_rows": null,
            "height": null,
            "justify_content": null,
            "justify_items": null,
            "left": null,
            "margin": null,
            "max_height": null,
            "max_width": null,
            "min_height": null,
            "min_width": null,
            "object_fit": null,
            "object_position": null,
            "order": null,
            "overflow": null,
            "overflow_x": null,
            "overflow_y": null,
            "padding": null,
            "right": null,
            "top": null,
            "visibility": null,
            "width": null
          }
        },
        "b16bda45b8d34ef1b959b8ba5a2819d1": {
          "model_module": "@jupyter-widgets/controls",
          "model_name": "ProgressStyleModel",
          "model_module_version": "1.5.0",
          "state": {
            "_model_module": "@jupyter-widgets/controls",
            "_model_module_version": "1.5.0",
            "_model_name": "ProgressStyleModel",
            "_view_count": null,
            "_view_module": "@jupyter-widgets/base",
            "_view_module_version": "1.2.0",
            "_view_name": "StyleView",
            "bar_color": null,
            "description_width": ""
          }
        },
        "0b7e083b16dd475ab957eafca275fd92": {
          "model_module": "@jupyter-widgets/base",
          "model_name": "LayoutModel",
          "model_module_version": "1.2.0",
          "state": {
            "_model_module": "@jupyter-widgets/base",
            "_model_module_version": "1.2.0",
            "_model_name": "LayoutModel",
            "_view_count": null,
            "_view_module": "@jupyter-widgets/base",
            "_view_module_version": "1.2.0",
            "_view_name": "LayoutView",
            "align_content": null,
            "align_items": null,
            "align_self": null,
            "border": null,
            "bottom": null,
            "display": null,
            "flex": null,
            "flex_flow": null,
            "grid_area": null,
            "grid_auto_columns": null,
            "grid_auto_flow": null,
            "grid_auto_rows": null,
            "grid_column": null,
            "grid_gap": null,
            "grid_row": null,
            "grid_template_areas": null,
            "grid_template_columns": null,
            "grid_template_rows": null,
            "height": null,
            "justify_content": null,
            "justify_items": null,
            "left": null,
            "margin": null,
            "max_height": null,
            "max_width": null,
            "min_height": null,
            "min_width": null,
            "object_fit": null,
            "object_position": null,
            "order": null,
            "overflow": null,
            "overflow_x": null,
            "overflow_y": null,
            "padding": null,
            "right": null,
            "top": null,
            "visibility": null,
            "width": null
          }
        },
        "7f5c5f9e6ac64214b77c8511ac0e96a4": {
          "model_module": "@jupyter-widgets/controls",
          "model_name": "DescriptionStyleModel",
          "model_module_version": "1.5.0",
          "state": {
            "_model_module": "@jupyter-widgets/controls",
            "_model_module_version": "1.5.0",
            "_model_name": "DescriptionStyleModel",
            "_view_count": null,
            "_view_module": "@jupyter-widgets/base",
            "_view_module_version": "1.2.0",
            "_view_name": "StyleView",
            "description_width": ""
          }
        }
      }
    }
  },
  "nbformat_minor": 0,
  "nbformat": 4,
  "cells": [
    {
      "source": [
        "# IMPORTANT: SOME KAGGLE DATA SOURCES ARE PRIVATE\n",
        "# RUN THIS CELL IN ORDER TO IMPORT YOUR KAGGLE DATA SOURCES.\n",
        "# kaggle competition: https://www.kaggle.com/competitions/what-on-the-video\n",
        "import kagglehub\n",
        "kagglehub.login()\n"
      ],
      "metadata": {
        "colab": {
          "base_uri": "https://localhost:8080/",
          "height": 84,
          "referenced_widgets": [
            "ec0955347c1a4d2a8bd2231aa9b05dce",
            "9bd81a7dad7a4034aafb02d672e0fa43",
            "176cc21ba67144008145f94d309550a6",
            "4a637c478ee5427fac2e0107c7c74489",
            "a88c2f949d8f4777ab5e8e467c97b246",
            "879e9782b6a84e4eaa25c835471d24ad",
            "0a991792188545d0a2d7ea43da75fd53",
            "8f2876b9f73749b385d1debc15ef5de6",
            "822ea65e22b64628b80aff300bdccb58",
            "78306ce0cc764f3d9f274cbf123d33f3",
            "9bd97b3f53fa4195846062d018ae0749",
            "41df7eb022d4471ba66df93e612574ed",
            "a320b0f47c3941e99b4977de2d1fb509",
            "da25600bce9a4734b37ce908c8a0e0ae",
            "f14866905e4044bca3dd53a761daf8a6",
            "ec7fe9ddd8ff4fdc884e2ebf63acb187",
            "b2de3f80070642c3b88864f410fc0166",
            "6f3ddb0c024a4441ae1ea6fdccb38dc7",
            "9bd74d7071ce41f08a4c210271b5db6a",
            "b418e42101ca452c9ec3370cfc8e12ab",
            "4df7cac7a56f4d2db76e554ef831c9e9",
            "6d872fa1d56c4a55be67adf90c527987",
            "62c6888372f64534b1cea719e63bc862"
          ]
        },
        "id": "iHTXfZNsXrOO",
        "outputId": "15a96611-66c8-4f28-e2fe-98b4815c0807"
      },
      "cell_type": "code",
      "outputs": [
        {
          "output_type": "display_data",
          "data": {
            "text/plain": [
              "VBox(children=(HTML(value='<center> <img\\nsrc=https://www.kaggle.com/static/images/site-logo.png\\nalt=\\'Kaggle…"
            ],
            "application/vnd.jupyter.widget-view+json": {
              "version_major": 2,
              "version_minor": 0,
              "model_id": "ec0955347c1a4d2a8bd2231aa9b05dce"
            }
          },
          "metadata": {}
        },
        {
          "output_type": "stream",
          "name": "stdout",
          "text": [
            "Kaggle credentials set.\n",
            "Kaggle credentials successfully validated.\n"
          ]
        }
      ],
      "execution_count": null
    },
    {
      "source": [
        "# IMPORTANT: RUN THIS CELL IN ORDER TO IMPORT YOUR KAGGLE DATA SOURCES,\n",
        "# THEN FEEL FREE TO DELETE THIS CELL.\n",
        "# NOTE: THIS NOTEBOOK ENVIRONMENT DIFFERS FROM KAGGLE'S PYTHON\n",
        "# ENVIRONMENT SO THERE MAY BE MISSING LIBRARIES USED BY YOUR\n",
        "# NOTEBOOK.\n",
        "\n",
        "samyanis_videos_path = kagglehub.dataset_download('your_account/videos')\n",
        "\n",
        "print('Data source import complete.')\n"
      ],
      "metadata": {
        "colab": {
          "base_uri": "https://localhost:8080/"
        },
        "id": "WHUGBVEFXrOO",
        "outputId": "2ad83244-0090-48db-c8de-8a2ad67f7f94"
      },
      "cell_type": "code",
      "outputs": [
        {
          "output_type": "stream",
          "name": "stdout",
          "text": [
            "Downloading from https://www.kaggle.com/api/v1/datasets/download/samyanis/videos?dataset_version_number=1...\n"
          ]
        },
        {
          "output_type": "stream",
          "name": "stderr",
          "text": [
            "100%|██████████| 677M/677M [00:11<00:00, 63.1MB/s]"
          ]
        },
        {
          "output_type": "stream",
          "name": "stdout",
          "text": [
            "Extracting files...\n"
          ]
        },
        {
          "output_type": "stream",
          "name": "stderr",
          "text": [
            "\n"
          ]
        },
        {
          "output_type": "stream",
          "name": "stdout",
          "text": [
            "Data source import complete.\n"
          ]
        }
      ],
      "execution_count": null
    },
    {
      "cell_type": "code",
      "source": [
        "print(samyanis_videos_path)"
      ],
      "metadata": {
        "id": "laFUBYTXd22r",
        "outputId": "6ebd9494-15d0-4544-dc2a-8dcb4b5ba865",
        "colab": {
          "base_uri": "https://localhost:8080/"
        }
      },
      "execution_count": null,
      "outputs": [
        {
          "output_type": "stream",
          "name": "stdout",
          "text": [
            "/root/.cache/kagglehub/datasets/samyanis/videos/versions/1\n"
          ]
        }
      ]
    },
    {
      "cell_type": "markdown",
      "source": [
        "# Подготовительный этап"
      ],
      "metadata": {
        "id": "VLvQL14hXrOP"
      }
    },
    {
      "cell_type": "code",
      "source": [
        "!pip install einops --quiet\n",
        "!pip install timm --quiet\n",
        "!pip install -q rich --quiet"
      ],
      "metadata": {
        "_uuid": "8f2839f25d086af736a60e9eeb907d3b93b6e0e5",
        "_cell_guid": "b1076dfc-b9ad-4769-8c92-a6c4dae69d19",
        "trusted": true,
        "execution": {
          "iopub.status.busy": "2025-04-16T19:22:06.006766Z",
          "iopub.execute_input": "2025-04-16T19:22:06.007073Z",
          "iopub.status.idle": "2025-04-16T19:24:27.150642Z",
          "shell.execute_reply.started": "2025-04-16T19:22:06.007048Z",
          "shell.execute_reply": "2025-04-16T19:24:27.149641Z"
        },
        "colab": {
          "base_uri": "https://localhost:8080/"
        },
        "id": "GtXaNf16XrOQ",
        "outputId": "be094032-9b56-431f-c45e-03e1eb8817ff"
      },
      "outputs": [
        {
          "output_type": "stream",
          "name": "stdout",
          "text": [
            "\u001b[2K   \u001b[90m━━━━━━━━━━━━━━━━━━━━━━━━━━━━━━━━━━━━━━━━\u001b[0m \u001b[32m363.4/363.4 MB\u001b[0m \u001b[31m4.5 MB/s\u001b[0m eta \u001b[36m0:00:00\u001b[0m\n",
            "\u001b[2K   \u001b[90m━━━━━━━━━━━━━━━━━━━━━━━━━━━━━━━━━━━━━━━━\u001b[0m \u001b[32m13.8/13.8 MB\u001b[0m \u001b[31m90.6 MB/s\u001b[0m eta \u001b[36m0:00:00\u001b[0m\n",
            "\u001b[2K   \u001b[90m━━━━━━━━━━━━━━━━━━━━━━━━━━━━━━━━━━━━━━━━\u001b[0m \u001b[32m24.6/24.6 MB\u001b[0m \u001b[31m76.4 MB/s\u001b[0m eta \u001b[36m0:00:00\u001b[0m\n",
            "\u001b[2K   \u001b[90m━━━━━━━━━━━━━━━━━━━━━━━━━━━━━━━━━━━━━━━━\u001b[0m \u001b[32m883.7/883.7 kB\u001b[0m \u001b[31m47.4 MB/s\u001b[0m eta \u001b[36m0:00:00\u001b[0m\n",
            "\u001b[2K   \u001b[90m━━━━━━━━━━━━━━━━━━━━━━━━━━━━━━━━━━━━━━━━\u001b[0m \u001b[32m664.8/664.8 MB\u001b[0m \u001b[31m1.9 MB/s\u001b[0m eta \u001b[36m0:00:00\u001b[0m\n",
            "\u001b[2K   \u001b[90m━━━━━━━━━━━━━━━━━━━━━━━━━━━━━━━━━━━━━━━━\u001b[0m \u001b[32m211.5/211.5 MB\u001b[0m \u001b[31m6.6 MB/s\u001b[0m eta \u001b[36m0:00:00\u001b[0m\n",
            "\u001b[2K   \u001b[90m━━━━━━━━━━━━━━━━━━━━━━━━━━━━━━━━━━━━━━━━\u001b[0m \u001b[32m56.3/56.3 MB\u001b[0m \u001b[31m14.3 MB/s\u001b[0m eta \u001b[36m0:00:00\u001b[0m\n",
            "\u001b[2K   \u001b[90m━━━━━━━━━━━━━━━━━━━━━━━━━━━━━━━━━━━━━━━━\u001b[0m \u001b[32m127.9/127.9 MB\u001b[0m \u001b[31m9.8 MB/s\u001b[0m eta \u001b[36m0:00:00\u001b[0m\n",
            "\u001b[2K   \u001b[90m━━━━━━━━━━━━━━━━━━━━━━━━━━━━━━━━━━━━━━━━\u001b[0m \u001b[32m207.5/207.5 MB\u001b[0m \u001b[31m6.4 MB/s\u001b[0m eta \u001b[36m0:00:00\u001b[0m\n",
            "\u001b[2K   \u001b[90m━━━━━━━━━━━━━━━━━━━━━━━━━━━━━━━━━━━━━━━━\u001b[0m \u001b[32m21.1/21.1 MB\u001b[0m \u001b[31m68.9 MB/s\u001b[0m eta \u001b[36m0:00:00\u001b[0m\n",
            "\u001b[?25h"
          ]
        }
      ],
      "execution_count": null
    },
    {
      "cell_type": "code",
      "source": [
        "import os\n",
        "import sys\n",
        "import re\n",
        "import gc\n",
        "import platform\n",
        "import random\n",
        "import argparse\n",
        "\n",
        "import numpy as np\n",
        "import pandas as pd\n",
        "\n",
        "import torch\n",
        "import torch.nn as nn\n",
        "import torch.nn.functional as F\n",
        "from torch.utils.data import DataLoader, Dataset\n",
        "\n",
        "import einops\n",
        "\n",
        "import albumentations as A\n",
        "from albumentations.pytorch import ToTensorV2\n",
        "\n",
        "import timm\n",
        "import glob\n",
        "import cv2\n",
        "\n",
        "from numpy import array\n",
        "from numpy import argmax\n",
        "\n",
        "from tqdm import tqdm\n",
        "from tqdm.contrib import tzip\n",
        "\n",
        "import wandb\n",
        "\n",
        "import warnings\n",
        "\n",
        "warnings.simplefilter('ignore')"
      ],
      "metadata": {
        "trusted": true,
        "execution": {
          "iopub.status.busy": "2025-04-16T20:12:31.061955Z",
          "iopub.execute_input": "2025-04-16T20:12:31.062753Z",
          "iopub.status.idle": "2025-04-16T20:12:44.364385Z",
          "shell.execute_reply.started": "2025-04-16T20:12:31.06273Z",
          "shell.execute_reply": "2025-04-16T20:12:44.363802Z"
        },
        "id": "JridviVpXrOQ"
      },
      "outputs": [],
      "execution_count": null
    },
    {
      "cell_type": "code",
      "source": [
        "# Настройка конфигураций\n",
        "conf = dict(\n",
        "    MAX_FRAMES=20,\n",
        "    EPOCHS=10,\n",
        "    LR=2e-4,\n",
        "    IMG_SIZE=(224, 224),\n",
        "    FEATURE_EXTRACTOR='resnext101_64x4d',\n",
        "    DR_RATE=0.3,\n",
        "    NUM_CLASSES=20,\n",
        "    RNN_HIDDEN_SIZE=256,\n",
        "    RNN_LAYERS=1,\n",
        "    TRAIN_BS=10, # количество батчей на трейне\n",
        "    VALID_BS = 10, # количество батчей на валидации\n",
        "    NUM_WORKERS = 4, # количество процессоров которые используются\n",
        "\n",
        "    MODEL_PATH='submit/weights/model_resnext50_32x4d.pt',\n",
        "    video_train_path=f'{samyanis_videos_path}/train',\n",
        "    video_test_path=f'{samyanis_videos_path}/test'\n",
        "    )\n",
        "print('yo')"
      ],
      "metadata": {
        "trusted": true,
        "execution": {
          "iopub.status.busy": "2025-04-16T20:31:53.803027Z",
          "iopub.execute_input": "2025-04-16T20:31:53.803603Z",
          "iopub.status.idle": "2025-04-16T20:31:53.808452Z",
          "shell.execute_reply.started": "2025-04-16T20:31:53.803573Z",
          "shell.execute_reply": "2025-04-16T20:31:53.807829Z"
        },
        "colab": {
          "base_uri": "https://localhost:8080/"
        },
        "id": "raOyzRtLXrOR",
        "outputId": "b4ee409c-5d5b-4442-b925-cc8cb60af91f"
      },
      "outputs": [
        {
          "output_type": "stream",
          "name": "stdout",
          "text": [
            "yo\n"
          ]
        }
      ],
      "execution_count": null
    },
    {
      "cell_type": "markdown",
      "source": [
        "# Исследование данных"
      ],
      "metadata": {
        "id": "1maGp4ocXrOR"
      }
    },
    {
      "cell_type": "code",
      "source": [
        "import pandas as pd\n",
        "\n",
        "df_train = pd.read_csv(f'{samyanis_videos_path}/train.csv')\n",
        "\n",
        "df_train.shape"
      ],
      "metadata": {
        "trusted": true,
        "execution": {
          "iopub.status.busy": "2025-04-16T20:31:57.415656Z",
          "iopub.execute_input": "2025-04-16T20:31:57.415943Z",
          "iopub.status.idle": "2025-04-16T20:31:57.424904Z",
          "shell.execute_reply.started": "2025-04-16T20:31:57.415922Z",
          "shell.execute_reply": "2025-04-16T20:31:57.424233Z"
        },
        "colab": {
          "base_uri": "https://localhost:8080/"
        },
        "id": "HMPxzlJ9XrOS",
        "outputId": "c9b4e422-bbea-49c2-86e9-4bc6f6fbd2e8"
      },
      "outputs": [
        {
          "output_type": "execute_result",
          "data": {
            "text/plain": [
              "(408, 2)"
            ]
          },
          "metadata": {},
          "execution_count": 7
        }
      ],
      "execution_count": null
    },
    {
      "cell_type": "code",
      "source": [
        "df_train.head()"
      ],
      "metadata": {
        "trusted": true,
        "execution": {
          "iopub.status.busy": "2025-04-16T20:31:58.927076Z",
          "iopub.execute_input": "2025-04-16T20:31:58.927664Z",
          "iopub.status.idle": "2025-04-16T20:31:58.934699Z",
          "shell.execute_reply.started": "2025-04-16T20:31:58.927642Z",
          "shell.execute_reply": "2025-04-16T20:31:58.933932Z"
        },
        "colab": {
          "base_uri": "https://localhost:8080/",
          "height": 206
        },
        "id": "XEhDRG-gXrOT",
        "outputId": "835d606b-7595-44fd-9c5f-0c9b836daf20"
      },
      "outputs": [
        {
          "output_type": "execute_result",
          "data": {
            "text/plain": [
              "                                                path  labels\n",
              "0                    port_before_sunrise_preview.mp4  sunset\n",
              "1  Louisiana speeding boat on Mississippi River_p...   cloud\n",
              "2                     170509A_Vietnam_03_preview.mp4   water\n",
              "3  Croatia water on rocks at high tide pan_previe...   water\n",
              "4        Arizona zoom on sunset mountain_preview.mp4  sunset"
            ],
            "text/html": [
              "\n",
              "  <div id=\"df-1a144716-f1b8-42f4-bde5-393428148e1a\" class=\"colab-df-container\">\n",
              "    <div>\n",
              "<style scoped>\n",
              "    .dataframe tbody tr th:only-of-type {\n",
              "        vertical-align: middle;\n",
              "    }\n",
              "\n",
              "    .dataframe tbody tr th {\n",
              "        vertical-align: top;\n",
              "    }\n",
              "\n",
              "    .dataframe thead th {\n",
              "        text-align: right;\n",
              "    }\n",
              "</style>\n",
              "<table border=\"1\" class=\"dataframe\">\n",
              "  <thead>\n",
              "    <tr style=\"text-align: right;\">\n",
              "      <th></th>\n",
              "      <th>path</th>\n",
              "      <th>labels</th>\n",
              "    </tr>\n",
              "  </thead>\n",
              "  <tbody>\n",
              "    <tr>\n",
              "      <th>0</th>\n",
              "      <td>port_before_sunrise_preview.mp4</td>\n",
              "      <td>sunset</td>\n",
              "    </tr>\n",
              "    <tr>\n",
              "      <th>1</th>\n",
              "      <td>Louisiana speeding boat on Mississippi River_p...</td>\n",
              "      <td>cloud</td>\n",
              "    </tr>\n",
              "    <tr>\n",
              "      <th>2</th>\n",
              "      <td>170509A_Vietnam_03_preview.mp4</td>\n",
              "      <td>water</td>\n",
              "    </tr>\n",
              "    <tr>\n",
              "      <th>3</th>\n",
              "      <td>Croatia water on rocks at high tide pan_previe...</td>\n",
              "      <td>water</td>\n",
              "    </tr>\n",
              "    <tr>\n",
              "      <th>4</th>\n",
              "      <td>Arizona zoom on sunset mountain_preview.mp4</td>\n",
              "      <td>sunset</td>\n",
              "    </tr>\n",
              "  </tbody>\n",
              "</table>\n",
              "</div>\n",
              "    <div class=\"colab-df-buttons\">\n",
              "\n",
              "  <div class=\"colab-df-container\">\n",
              "    <button class=\"colab-df-convert\" onclick=\"convertToInteractive('df-1a144716-f1b8-42f4-bde5-393428148e1a')\"\n",
              "            title=\"Convert this dataframe to an interactive table.\"\n",
              "            style=\"display:none;\">\n",
              "\n",
              "  <svg xmlns=\"http://www.w3.org/2000/svg\" height=\"24px\" viewBox=\"0 -960 960 960\">\n",
              "    <path d=\"M120-120v-720h720v720H120Zm60-500h600v-160H180v160Zm220 220h160v-160H400v160Zm0 220h160v-160H400v160ZM180-400h160v-160H180v160Zm440 0h160v-160H620v160ZM180-180h160v-160H180v160Zm440 0h160v-160H620v160Z\"/>\n",
              "  </svg>\n",
              "    </button>\n",
              "\n",
              "  <style>\n",
              "    .colab-df-container {\n",
              "      display:flex;\n",
              "      gap: 12px;\n",
              "    }\n",
              "\n",
              "    .colab-df-convert {\n",
              "      background-color: #E8F0FE;\n",
              "      border: none;\n",
              "      border-radius: 50%;\n",
              "      cursor: pointer;\n",
              "      display: none;\n",
              "      fill: #1967D2;\n",
              "      height: 32px;\n",
              "      padding: 0 0 0 0;\n",
              "      width: 32px;\n",
              "    }\n",
              "\n",
              "    .colab-df-convert:hover {\n",
              "      background-color: #E2EBFA;\n",
              "      box-shadow: 0px 1px 2px rgba(60, 64, 67, 0.3), 0px 1px 3px 1px rgba(60, 64, 67, 0.15);\n",
              "      fill: #174EA6;\n",
              "    }\n",
              "\n",
              "    .colab-df-buttons div {\n",
              "      margin-bottom: 4px;\n",
              "    }\n",
              "\n",
              "    [theme=dark] .colab-df-convert {\n",
              "      background-color: #3B4455;\n",
              "      fill: #D2E3FC;\n",
              "    }\n",
              "\n",
              "    [theme=dark] .colab-df-convert:hover {\n",
              "      background-color: #434B5C;\n",
              "      box-shadow: 0px 1px 3px 1px rgba(0, 0, 0, 0.15);\n",
              "      filter: drop-shadow(0px 1px 2px rgba(0, 0, 0, 0.3));\n",
              "      fill: #FFFFFF;\n",
              "    }\n",
              "  </style>\n",
              "\n",
              "    <script>\n",
              "      const buttonEl =\n",
              "        document.querySelector('#df-1a144716-f1b8-42f4-bde5-393428148e1a button.colab-df-convert');\n",
              "      buttonEl.style.display =\n",
              "        google.colab.kernel.accessAllowed ? 'block' : 'none';\n",
              "\n",
              "      async function convertToInteractive(key) {\n",
              "        const element = document.querySelector('#df-1a144716-f1b8-42f4-bde5-393428148e1a');\n",
              "        const dataTable =\n",
              "          await google.colab.kernel.invokeFunction('convertToInteractive',\n",
              "                                                    [key], {});\n",
              "        if (!dataTable) return;\n",
              "\n",
              "        const docLinkHtml = 'Like what you see? Visit the ' +\n",
              "          '<a target=\"_blank\" href=https://colab.research.google.com/notebooks/data_table.ipynb>data table notebook</a>'\n",
              "          + ' to learn more about interactive tables.';\n",
              "        element.innerHTML = '';\n",
              "        dataTable['output_type'] = 'display_data';\n",
              "        await google.colab.output.renderOutput(dataTable, element);\n",
              "        const docLink = document.createElement('div');\n",
              "        docLink.innerHTML = docLinkHtml;\n",
              "        element.appendChild(docLink);\n",
              "      }\n",
              "    </script>\n",
              "  </div>\n",
              "\n",
              "\n",
              "<div id=\"df-8f4758fc-35da-4f4b-9e66-a50f0f288441\">\n",
              "  <button class=\"colab-df-quickchart\" onclick=\"quickchart('df-8f4758fc-35da-4f4b-9e66-a50f0f288441')\"\n",
              "            title=\"Suggest charts\"\n",
              "            style=\"display:none;\">\n",
              "\n",
              "<svg xmlns=\"http://www.w3.org/2000/svg\" height=\"24px\"viewBox=\"0 0 24 24\"\n",
              "     width=\"24px\">\n",
              "    <g>\n",
              "        <path d=\"M19 3H5c-1.1 0-2 .9-2 2v14c0 1.1.9 2 2 2h14c1.1 0 2-.9 2-2V5c0-1.1-.9-2-2-2zM9 17H7v-7h2v7zm4 0h-2V7h2v10zm4 0h-2v-4h2v4z\"/>\n",
              "    </g>\n",
              "</svg>\n",
              "  </button>\n",
              "\n",
              "<style>\n",
              "  .colab-df-quickchart {\n",
              "      --bg-color: #E8F0FE;\n",
              "      --fill-color: #1967D2;\n",
              "      --hover-bg-color: #E2EBFA;\n",
              "      --hover-fill-color: #174EA6;\n",
              "      --disabled-fill-color: #AAA;\n",
              "      --disabled-bg-color: #DDD;\n",
              "  }\n",
              "\n",
              "  [theme=dark] .colab-df-quickchart {\n",
              "      --bg-color: #3B4455;\n",
              "      --fill-color: #D2E3FC;\n",
              "      --hover-bg-color: #434B5C;\n",
              "      --hover-fill-color: #FFFFFF;\n",
              "      --disabled-bg-color: #3B4455;\n",
              "      --disabled-fill-color: #666;\n",
              "  }\n",
              "\n",
              "  .colab-df-quickchart {\n",
              "    background-color: var(--bg-color);\n",
              "    border: none;\n",
              "    border-radius: 50%;\n",
              "    cursor: pointer;\n",
              "    display: none;\n",
              "    fill: var(--fill-color);\n",
              "    height: 32px;\n",
              "    padding: 0;\n",
              "    width: 32px;\n",
              "  }\n",
              "\n",
              "  .colab-df-quickchart:hover {\n",
              "    background-color: var(--hover-bg-color);\n",
              "    box-shadow: 0 1px 2px rgba(60, 64, 67, 0.3), 0 1px 3px 1px rgba(60, 64, 67, 0.15);\n",
              "    fill: var(--button-hover-fill-color);\n",
              "  }\n",
              "\n",
              "  .colab-df-quickchart-complete:disabled,\n",
              "  .colab-df-quickchart-complete:disabled:hover {\n",
              "    background-color: var(--disabled-bg-color);\n",
              "    fill: var(--disabled-fill-color);\n",
              "    box-shadow: none;\n",
              "  }\n",
              "\n",
              "  .colab-df-spinner {\n",
              "    border: 2px solid var(--fill-color);\n",
              "    border-color: transparent;\n",
              "    border-bottom-color: var(--fill-color);\n",
              "    animation:\n",
              "      spin 1s steps(1) infinite;\n",
              "  }\n",
              "\n",
              "  @keyframes spin {\n",
              "    0% {\n",
              "      border-color: transparent;\n",
              "      border-bottom-color: var(--fill-color);\n",
              "      border-left-color: var(--fill-color);\n",
              "    }\n",
              "    20% {\n",
              "      border-color: transparent;\n",
              "      border-left-color: var(--fill-color);\n",
              "      border-top-color: var(--fill-color);\n",
              "    }\n",
              "    30% {\n",
              "      border-color: transparent;\n",
              "      border-left-color: var(--fill-color);\n",
              "      border-top-color: var(--fill-color);\n",
              "      border-right-color: var(--fill-color);\n",
              "    }\n",
              "    40% {\n",
              "      border-color: transparent;\n",
              "      border-right-color: var(--fill-color);\n",
              "      border-top-color: var(--fill-color);\n",
              "    }\n",
              "    60% {\n",
              "      border-color: transparent;\n",
              "      border-right-color: var(--fill-color);\n",
              "    }\n",
              "    80% {\n",
              "      border-color: transparent;\n",
              "      border-right-color: var(--fill-color);\n",
              "      border-bottom-color: var(--fill-color);\n",
              "    }\n",
              "    90% {\n",
              "      border-color: transparent;\n",
              "      border-bottom-color: var(--fill-color);\n",
              "    }\n",
              "  }\n",
              "</style>\n",
              "\n",
              "  <script>\n",
              "    async function quickchart(key) {\n",
              "      const quickchartButtonEl =\n",
              "        document.querySelector('#' + key + ' button');\n",
              "      quickchartButtonEl.disabled = true;  // To prevent multiple clicks.\n",
              "      quickchartButtonEl.classList.add('colab-df-spinner');\n",
              "      try {\n",
              "        const charts = await google.colab.kernel.invokeFunction(\n",
              "            'suggestCharts', [key], {});\n",
              "      } catch (error) {\n",
              "        console.error('Error during call to suggestCharts:', error);\n",
              "      }\n",
              "      quickchartButtonEl.classList.remove('colab-df-spinner');\n",
              "      quickchartButtonEl.classList.add('colab-df-quickchart-complete');\n",
              "    }\n",
              "    (() => {\n",
              "      let quickchartButtonEl =\n",
              "        document.querySelector('#df-8f4758fc-35da-4f4b-9e66-a50f0f288441 button');\n",
              "      quickchartButtonEl.style.display =\n",
              "        google.colab.kernel.accessAllowed ? 'block' : 'none';\n",
              "    })();\n",
              "  </script>\n",
              "</div>\n",
              "    </div>\n",
              "  </div>\n"
            ],
            "application/vnd.google.colaboratory.intrinsic+json": {
              "type": "dataframe",
              "variable_name": "df_train",
              "summary": "{\n  \"name\": \"df_train\",\n  \"rows\": 408,\n  \"fields\": [\n    {\n      \"column\": \"path\",\n      \"properties\": {\n        \"dtype\": \"string\",\n        \"num_unique_values\": 408,\n        \"samples\": [\n          \"Limousin_Cows_1__VIdevo_preview.mp4\",\n          \"_Argentina Salta cloud over tobacco field_preview.mp4\",\n          \"010918604-merida-aqueduct-miracles-flowe_preview.mp4\"\n        ],\n        \"semantic_type\": \"\",\n        \"description\": \"\"\n      }\n    },\n    {\n      \"column\": \"labels\",\n      \"properties\": {\n        \"dtype\": \"category\",\n        \"num_unique_values\": 22,\n        \"samples\": [\n          \"sunset\",\n          \"car, water\",\n          \"dance\"\n        ],\n        \"semantic_type\": \"\",\n        \"description\": \"\"\n      }\n    }\n  ]\n}"
            }
          },
          "metadata": {},
          "execution_count": 8
        }
      ],
      "execution_count": null
    },
    {
      "cell_type": "code",
      "source": [
        "df_train['labels'].value_counts()"
      ],
      "metadata": {
        "trusted": true,
        "execution": {
          "iopub.status.busy": "2025-04-16T20:32:01.715501Z",
          "iopub.execute_input": "2025-04-16T20:32:01.71578Z",
          "iopub.status.idle": "2025-04-16T20:32:01.722682Z",
          "shell.execute_reply.started": "2025-04-16T20:32:01.71576Z",
          "shell.execute_reply": "2025-04-16T20:32:01.721961Z"
        },
        "colab": {
          "base_uri": "https://localhost:8080/",
          "height": 805
        },
        "id": "IY1fosHzXrOT",
        "outputId": "e80c7d6b-57e0-402c-88f9-7f6668724ce7"
      },
      "outputs": [
        {
          "output_type": "execute_result",
          "data": {
            "text/plain": [
              "labels\n",
              "water                   100\n",
              "food                     50\n",
              "cloud                    46\n",
              "flower                   38\n",
              "car                      38\n",
              "sunset                   31\n",
              "cloud, water             28\n",
              "dance                    23\n",
              "animal                   21\n",
              "fire                      7\n",
              "cloud, car                5\n",
              "water, sunset             4\n",
              "cloud, water, sunset      4\n",
              "cloud, sunset             3\n",
              "car, water                2\n",
              "dance, fire               1\n",
              "flower, fire              1\n",
              "dance, car                1\n",
              "car, sunset               1\n",
              "flower, car               1\n",
              "flower, cloud             1\n",
              "flower, water, cloud      1\n",
              "Name: count, dtype: int64"
            ],
            "text/html": [
              "<div>\n",
              "<style scoped>\n",
              "    .dataframe tbody tr th:only-of-type {\n",
              "        vertical-align: middle;\n",
              "    }\n",
              "\n",
              "    .dataframe tbody tr th {\n",
              "        vertical-align: top;\n",
              "    }\n",
              "\n",
              "    .dataframe thead th {\n",
              "        text-align: right;\n",
              "    }\n",
              "</style>\n",
              "<table border=\"1\" class=\"dataframe\">\n",
              "  <thead>\n",
              "    <tr style=\"text-align: right;\">\n",
              "      <th></th>\n",
              "      <th>count</th>\n",
              "    </tr>\n",
              "    <tr>\n",
              "      <th>labels</th>\n",
              "      <th></th>\n",
              "    </tr>\n",
              "  </thead>\n",
              "  <tbody>\n",
              "    <tr>\n",
              "      <th>water</th>\n",
              "      <td>100</td>\n",
              "    </tr>\n",
              "    <tr>\n",
              "      <th>food</th>\n",
              "      <td>50</td>\n",
              "    </tr>\n",
              "    <tr>\n",
              "      <th>cloud</th>\n",
              "      <td>46</td>\n",
              "    </tr>\n",
              "    <tr>\n",
              "      <th>flower</th>\n",
              "      <td>38</td>\n",
              "    </tr>\n",
              "    <tr>\n",
              "      <th>car</th>\n",
              "      <td>38</td>\n",
              "    </tr>\n",
              "    <tr>\n",
              "      <th>sunset</th>\n",
              "      <td>31</td>\n",
              "    </tr>\n",
              "    <tr>\n",
              "      <th>cloud, water</th>\n",
              "      <td>28</td>\n",
              "    </tr>\n",
              "    <tr>\n",
              "      <th>dance</th>\n",
              "      <td>23</td>\n",
              "    </tr>\n",
              "    <tr>\n",
              "      <th>animal</th>\n",
              "      <td>21</td>\n",
              "    </tr>\n",
              "    <tr>\n",
              "      <th>fire</th>\n",
              "      <td>7</td>\n",
              "    </tr>\n",
              "    <tr>\n",
              "      <th>cloud, car</th>\n",
              "      <td>5</td>\n",
              "    </tr>\n",
              "    <tr>\n",
              "      <th>water, sunset</th>\n",
              "      <td>4</td>\n",
              "    </tr>\n",
              "    <tr>\n",
              "      <th>cloud, water, sunset</th>\n",
              "      <td>4</td>\n",
              "    </tr>\n",
              "    <tr>\n",
              "      <th>cloud, sunset</th>\n",
              "      <td>3</td>\n",
              "    </tr>\n",
              "    <tr>\n",
              "      <th>car, water</th>\n",
              "      <td>2</td>\n",
              "    </tr>\n",
              "    <tr>\n",
              "      <th>dance, fire</th>\n",
              "      <td>1</td>\n",
              "    </tr>\n",
              "    <tr>\n",
              "      <th>flower, fire</th>\n",
              "      <td>1</td>\n",
              "    </tr>\n",
              "    <tr>\n",
              "      <th>dance, car</th>\n",
              "      <td>1</td>\n",
              "    </tr>\n",
              "    <tr>\n",
              "      <th>car, sunset</th>\n",
              "      <td>1</td>\n",
              "    </tr>\n",
              "    <tr>\n",
              "      <th>flower, car</th>\n",
              "      <td>1</td>\n",
              "    </tr>\n",
              "    <tr>\n",
              "      <th>flower, cloud</th>\n",
              "      <td>1</td>\n",
              "    </tr>\n",
              "    <tr>\n",
              "      <th>flower, water, cloud</th>\n",
              "      <td>1</td>\n",
              "    </tr>\n",
              "  </tbody>\n",
              "</table>\n",
              "</div><br><label><b>dtype:</b> int64</label>"
            ]
          },
          "metadata": {},
          "execution_count": 9
        }
      ],
      "execution_count": null
    },
    {
      "cell_type": "code",
      "source": [
        "trash = df_train[df_train['labels'] == 'cloud, water, sunset']\n",
        "trash['labels'] = trash['labels'].replace('cloud, water, sunset', 'water, sunset')\n",
        "trash"
      ],
      "metadata": {
        "trusted": true,
        "execution": {
          "iopub.status.busy": "2025-04-16T20:32:03.985358Z",
          "iopub.execute_input": "2025-04-16T20:32:03.986092Z",
          "iopub.status.idle": "2025-04-16T20:32:03.994858Z",
          "shell.execute_reply.started": "2025-04-16T20:32:03.986067Z",
          "shell.execute_reply": "2025-04-16T20:32:03.993997Z"
        },
        "colab": {
          "base_uri": "https://localhost:8080/",
          "height": 175
        },
        "id": "nXjlw9lAXrOU",
        "outputId": "ec54ccf2-0a3a-446f-cdb2-0e9d2a9e08ee"
      },
      "outputs": [
        {
          "output_type": "execute_result",
          "data": {
            "text/plain": [
              "                                                 path         labels\n",
              "321             210329_01B_Bali_1080p_026_preview.mp4  water, sunset\n",
              "377                              MVI_1268_preview.mp4  water, sunset\n",
              "382            Shoreline_Sunset_1__Videvo_preview.mp4  water, sunset\n",
              "386  Washington Silver Lake evening light_preview.mp4  water, sunset"
            ],
            "text/html": [
              "\n",
              "  <div id=\"df-f52b358f-7878-48e9-8459-cb02e04d4d8d\" class=\"colab-df-container\">\n",
              "    <div>\n",
              "<style scoped>\n",
              "    .dataframe tbody tr th:only-of-type {\n",
              "        vertical-align: middle;\n",
              "    }\n",
              "\n",
              "    .dataframe tbody tr th {\n",
              "        vertical-align: top;\n",
              "    }\n",
              "\n",
              "    .dataframe thead th {\n",
              "        text-align: right;\n",
              "    }\n",
              "</style>\n",
              "<table border=\"1\" class=\"dataframe\">\n",
              "  <thead>\n",
              "    <tr style=\"text-align: right;\">\n",
              "      <th></th>\n",
              "      <th>path</th>\n",
              "      <th>labels</th>\n",
              "    </tr>\n",
              "  </thead>\n",
              "  <tbody>\n",
              "    <tr>\n",
              "      <th>321</th>\n",
              "      <td>210329_01B_Bali_1080p_026_preview.mp4</td>\n",
              "      <td>water, sunset</td>\n",
              "    </tr>\n",
              "    <tr>\n",
              "      <th>377</th>\n",
              "      <td>MVI_1268_preview.mp4</td>\n",
              "      <td>water, sunset</td>\n",
              "    </tr>\n",
              "    <tr>\n",
              "      <th>382</th>\n",
              "      <td>Shoreline_Sunset_1__Videvo_preview.mp4</td>\n",
              "      <td>water, sunset</td>\n",
              "    </tr>\n",
              "    <tr>\n",
              "      <th>386</th>\n",
              "      <td>Washington Silver Lake evening light_preview.mp4</td>\n",
              "      <td>water, sunset</td>\n",
              "    </tr>\n",
              "  </tbody>\n",
              "</table>\n",
              "</div>\n",
              "    <div class=\"colab-df-buttons\">\n",
              "\n",
              "  <div class=\"colab-df-container\">\n",
              "    <button class=\"colab-df-convert\" onclick=\"convertToInteractive('df-f52b358f-7878-48e9-8459-cb02e04d4d8d')\"\n",
              "            title=\"Convert this dataframe to an interactive table.\"\n",
              "            style=\"display:none;\">\n",
              "\n",
              "  <svg xmlns=\"http://www.w3.org/2000/svg\" height=\"24px\" viewBox=\"0 -960 960 960\">\n",
              "    <path d=\"M120-120v-720h720v720H120Zm60-500h600v-160H180v160Zm220 220h160v-160H400v160Zm0 220h160v-160H400v160ZM180-400h160v-160H180v160Zm440 0h160v-160H620v160ZM180-180h160v-160H180v160Zm440 0h160v-160H620v160Z\"/>\n",
              "  </svg>\n",
              "    </button>\n",
              "\n",
              "  <style>\n",
              "    .colab-df-container {\n",
              "      display:flex;\n",
              "      gap: 12px;\n",
              "    }\n",
              "\n",
              "    .colab-df-convert {\n",
              "      background-color: #E8F0FE;\n",
              "      border: none;\n",
              "      border-radius: 50%;\n",
              "      cursor: pointer;\n",
              "      display: none;\n",
              "      fill: #1967D2;\n",
              "      height: 32px;\n",
              "      padding: 0 0 0 0;\n",
              "      width: 32px;\n",
              "    }\n",
              "\n",
              "    .colab-df-convert:hover {\n",
              "      background-color: #E2EBFA;\n",
              "      box-shadow: 0px 1px 2px rgba(60, 64, 67, 0.3), 0px 1px 3px 1px rgba(60, 64, 67, 0.15);\n",
              "      fill: #174EA6;\n",
              "    }\n",
              "\n",
              "    .colab-df-buttons div {\n",
              "      margin-bottom: 4px;\n",
              "    }\n",
              "\n",
              "    [theme=dark] .colab-df-convert {\n",
              "      background-color: #3B4455;\n",
              "      fill: #D2E3FC;\n",
              "    }\n",
              "\n",
              "    [theme=dark] .colab-df-convert:hover {\n",
              "      background-color: #434B5C;\n",
              "      box-shadow: 0px 1px 3px 1px rgba(0, 0, 0, 0.15);\n",
              "      filter: drop-shadow(0px 1px 2px rgba(0, 0, 0, 0.3));\n",
              "      fill: #FFFFFF;\n",
              "    }\n",
              "  </style>\n",
              "\n",
              "    <script>\n",
              "      const buttonEl =\n",
              "        document.querySelector('#df-f52b358f-7878-48e9-8459-cb02e04d4d8d button.colab-df-convert');\n",
              "      buttonEl.style.display =\n",
              "        google.colab.kernel.accessAllowed ? 'block' : 'none';\n",
              "\n",
              "      async function convertToInteractive(key) {\n",
              "        const element = document.querySelector('#df-f52b358f-7878-48e9-8459-cb02e04d4d8d');\n",
              "        const dataTable =\n",
              "          await google.colab.kernel.invokeFunction('convertToInteractive',\n",
              "                                                    [key], {});\n",
              "        if (!dataTable) return;\n",
              "\n",
              "        const docLinkHtml = 'Like what you see? Visit the ' +\n",
              "          '<a target=\"_blank\" href=https://colab.research.google.com/notebooks/data_table.ipynb>data table notebook</a>'\n",
              "          + ' to learn more about interactive tables.';\n",
              "        element.innerHTML = '';\n",
              "        dataTable['output_type'] = 'display_data';\n",
              "        await google.colab.output.renderOutput(dataTable, element);\n",
              "        const docLink = document.createElement('div');\n",
              "        docLink.innerHTML = docLinkHtml;\n",
              "        element.appendChild(docLink);\n",
              "      }\n",
              "    </script>\n",
              "  </div>\n",
              "\n",
              "\n",
              "<div id=\"df-0551fa65-f733-41d6-9ecf-6c0eed67f4b8\">\n",
              "  <button class=\"colab-df-quickchart\" onclick=\"quickchart('df-0551fa65-f733-41d6-9ecf-6c0eed67f4b8')\"\n",
              "            title=\"Suggest charts\"\n",
              "            style=\"display:none;\">\n",
              "\n",
              "<svg xmlns=\"http://www.w3.org/2000/svg\" height=\"24px\"viewBox=\"0 0 24 24\"\n",
              "     width=\"24px\">\n",
              "    <g>\n",
              "        <path d=\"M19 3H5c-1.1 0-2 .9-2 2v14c0 1.1.9 2 2 2h14c1.1 0 2-.9 2-2V5c0-1.1-.9-2-2-2zM9 17H7v-7h2v7zm4 0h-2V7h2v10zm4 0h-2v-4h2v4z\"/>\n",
              "    </g>\n",
              "</svg>\n",
              "  </button>\n",
              "\n",
              "<style>\n",
              "  .colab-df-quickchart {\n",
              "      --bg-color: #E8F0FE;\n",
              "      --fill-color: #1967D2;\n",
              "      --hover-bg-color: #E2EBFA;\n",
              "      --hover-fill-color: #174EA6;\n",
              "      --disabled-fill-color: #AAA;\n",
              "      --disabled-bg-color: #DDD;\n",
              "  }\n",
              "\n",
              "  [theme=dark] .colab-df-quickchart {\n",
              "      --bg-color: #3B4455;\n",
              "      --fill-color: #D2E3FC;\n",
              "      --hover-bg-color: #434B5C;\n",
              "      --hover-fill-color: #FFFFFF;\n",
              "      --disabled-bg-color: #3B4455;\n",
              "      --disabled-fill-color: #666;\n",
              "  }\n",
              "\n",
              "  .colab-df-quickchart {\n",
              "    background-color: var(--bg-color);\n",
              "    border: none;\n",
              "    border-radius: 50%;\n",
              "    cursor: pointer;\n",
              "    display: none;\n",
              "    fill: var(--fill-color);\n",
              "    height: 32px;\n",
              "    padding: 0;\n",
              "    width: 32px;\n",
              "  }\n",
              "\n",
              "  .colab-df-quickchart:hover {\n",
              "    background-color: var(--hover-bg-color);\n",
              "    box-shadow: 0 1px 2px rgba(60, 64, 67, 0.3), 0 1px 3px 1px rgba(60, 64, 67, 0.15);\n",
              "    fill: var(--button-hover-fill-color);\n",
              "  }\n",
              "\n",
              "  .colab-df-quickchart-complete:disabled,\n",
              "  .colab-df-quickchart-complete:disabled:hover {\n",
              "    background-color: var(--disabled-bg-color);\n",
              "    fill: var(--disabled-fill-color);\n",
              "    box-shadow: none;\n",
              "  }\n",
              "\n",
              "  .colab-df-spinner {\n",
              "    border: 2px solid var(--fill-color);\n",
              "    border-color: transparent;\n",
              "    border-bottom-color: var(--fill-color);\n",
              "    animation:\n",
              "      spin 1s steps(1) infinite;\n",
              "  }\n",
              "\n",
              "  @keyframes spin {\n",
              "    0% {\n",
              "      border-color: transparent;\n",
              "      border-bottom-color: var(--fill-color);\n",
              "      border-left-color: var(--fill-color);\n",
              "    }\n",
              "    20% {\n",
              "      border-color: transparent;\n",
              "      border-left-color: var(--fill-color);\n",
              "      border-top-color: var(--fill-color);\n",
              "    }\n",
              "    30% {\n",
              "      border-color: transparent;\n",
              "      border-left-color: var(--fill-color);\n",
              "      border-top-color: var(--fill-color);\n",
              "      border-right-color: var(--fill-color);\n",
              "    }\n",
              "    40% {\n",
              "      border-color: transparent;\n",
              "      border-right-color: var(--fill-color);\n",
              "      border-top-color: var(--fill-color);\n",
              "    }\n",
              "    60% {\n",
              "      border-color: transparent;\n",
              "      border-right-color: var(--fill-color);\n",
              "    }\n",
              "    80% {\n",
              "      border-color: transparent;\n",
              "      border-right-color: var(--fill-color);\n",
              "      border-bottom-color: var(--fill-color);\n",
              "    }\n",
              "    90% {\n",
              "      border-color: transparent;\n",
              "      border-bottom-color: var(--fill-color);\n",
              "    }\n",
              "  }\n",
              "</style>\n",
              "\n",
              "  <script>\n",
              "    async function quickchart(key) {\n",
              "      const quickchartButtonEl =\n",
              "        document.querySelector('#' + key + ' button');\n",
              "      quickchartButtonEl.disabled = true;  // To prevent multiple clicks.\n",
              "      quickchartButtonEl.classList.add('colab-df-spinner');\n",
              "      try {\n",
              "        const charts = await google.colab.kernel.invokeFunction(\n",
              "            'suggestCharts', [key], {});\n",
              "      } catch (error) {\n",
              "        console.error('Error during call to suggestCharts:', error);\n",
              "      }\n",
              "      quickchartButtonEl.classList.remove('colab-df-spinner');\n",
              "      quickchartButtonEl.classList.add('colab-df-quickchart-complete');\n",
              "    }\n",
              "    (() => {\n",
              "      let quickchartButtonEl =\n",
              "        document.querySelector('#df-0551fa65-f733-41d6-9ecf-6c0eed67f4b8 button');\n",
              "      quickchartButtonEl.style.display =\n",
              "        google.colab.kernel.accessAllowed ? 'block' : 'none';\n",
              "    })();\n",
              "  </script>\n",
              "</div>\n",
              "    </div>\n",
              "  </div>\n"
            ],
            "application/vnd.google.colaboratory.intrinsic+json": {
              "type": "dataframe",
              "variable_name": "trash",
              "summary": "{\n  \"name\": \"trash\",\n  \"rows\": 4,\n  \"fields\": [\n    {\n      \"column\": \"path\",\n      \"properties\": {\n        \"dtype\": \"string\",\n        \"num_unique_values\": 4,\n        \"samples\": [\n          \"MVI_1268_preview.mp4\",\n          \"Washington Silver Lake evening light_preview.mp4\",\n          \"210329_01B_Bali_1080p_026_preview.mp4\"\n        ],\n        \"semantic_type\": \"\",\n        \"description\": \"\"\n      }\n    },\n    {\n      \"column\": \"labels\",\n      \"properties\": {\n        \"dtype\": \"category\",\n        \"num_unique_values\": 1,\n        \"samples\": [\n          \"water, sunset\"\n        ],\n        \"semantic_type\": \"\",\n        \"description\": \"\"\n      }\n    }\n  ]\n}"
            }
          },
          "metadata": {},
          "execution_count": 10
        }
      ],
      "execution_count": null
    },
    {
      "cell_type": "code",
      "source": [
        "df_train['labels'] = df_train['labels'].replace('flower, water, cloud', 'flower, cloud')\n",
        "df_train['labels'] = df_train['labels'].replace('cloud, water, sunset', 'cloud, sunset')\n",
        "df_train = pd.concat([df_train, trash])\n",
        "\n",
        "df_train['labels'].value_counts()"
      ],
      "metadata": {
        "trusted": true,
        "execution": {
          "iopub.status.busy": "2025-04-16T20:32:07.159937Z",
          "iopub.execute_input": "2025-04-16T20:32:07.160551Z",
          "iopub.status.idle": "2025-04-16T20:32:07.169486Z",
          "shell.execute_reply.started": "2025-04-16T20:32:07.160526Z",
          "shell.execute_reply": "2025-04-16T20:32:07.168834Z"
        },
        "colab": {
          "base_uri": "https://localhost:8080/",
          "height": 742
        },
        "id": "-ZiiMw0LXrOU",
        "outputId": "8b103a9f-1069-45d5-bf85-579beddf8a51"
      },
      "outputs": [
        {
          "output_type": "execute_result",
          "data": {
            "text/plain": [
              "labels\n",
              "water            100\n",
              "food              50\n",
              "cloud             46\n",
              "flower            38\n",
              "car               38\n",
              "sunset            31\n",
              "cloud, water      28\n",
              "dance             23\n",
              "animal            21\n",
              "water, sunset      8\n",
              "fire               7\n",
              "cloud, sunset      7\n",
              "cloud, car         5\n",
              "car, water         2\n",
              "flower, cloud      2\n",
              "dance, fire        1\n",
              "flower, fire       1\n",
              "dance, car         1\n",
              "flower, car        1\n",
              "car, sunset        1\n",
              "Name: count, dtype: int64"
            ],
            "text/html": [
              "<div>\n",
              "<style scoped>\n",
              "    .dataframe tbody tr th:only-of-type {\n",
              "        vertical-align: middle;\n",
              "    }\n",
              "\n",
              "    .dataframe tbody tr th {\n",
              "        vertical-align: top;\n",
              "    }\n",
              "\n",
              "    .dataframe thead th {\n",
              "        text-align: right;\n",
              "    }\n",
              "</style>\n",
              "<table border=\"1\" class=\"dataframe\">\n",
              "  <thead>\n",
              "    <tr style=\"text-align: right;\">\n",
              "      <th></th>\n",
              "      <th>count</th>\n",
              "    </tr>\n",
              "    <tr>\n",
              "      <th>labels</th>\n",
              "      <th></th>\n",
              "    </tr>\n",
              "  </thead>\n",
              "  <tbody>\n",
              "    <tr>\n",
              "      <th>water</th>\n",
              "      <td>100</td>\n",
              "    </tr>\n",
              "    <tr>\n",
              "      <th>food</th>\n",
              "      <td>50</td>\n",
              "    </tr>\n",
              "    <tr>\n",
              "      <th>cloud</th>\n",
              "      <td>46</td>\n",
              "    </tr>\n",
              "    <tr>\n",
              "      <th>flower</th>\n",
              "      <td>38</td>\n",
              "    </tr>\n",
              "    <tr>\n",
              "      <th>car</th>\n",
              "      <td>38</td>\n",
              "    </tr>\n",
              "    <tr>\n",
              "      <th>sunset</th>\n",
              "      <td>31</td>\n",
              "    </tr>\n",
              "    <tr>\n",
              "      <th>cloud, water</th>\n",
              "      <td>28</td>\n",
              "    </tr>\n",
              "    <tr>\n",
              "      <th>dance</th>\n",
              "      <td>23</td>\n",
              "    </tr>\n",
              "    <tr>\n",
              "      <th>animal</th>\n",
              "      <td>21</td>\n",
              "    </tr>\n",
              "    <tr>\n",
              "      <th>water, sunset</th>\n",
              "      <td>8</td>\n",
              "    </tr>\n",
              "    <tr>\n",
              "      <th>fire</th>\n",
              "      <td>7</td>\n",
              "    </tr>\n",
              "    <tr>\n",
              "      <th>cloud, sunset</th>\n",
              "      <td>7</td>\n",
              "    </tr>\n",
              "    <tr>\n",
              "      <th>cloud, car</th>\n",
              "      <td>5</td>\n",
              "    </tr>\n",
              "    <tr>\n",
              "      <th>car, water</th>\n",
              "      <td>2</td>\n",
              "    </tr>\n",
              "    <tr>\n",
              "      <th>flower, cloud</th>\n",
              "      <td>2</td>\n",
              "    </tr>\n",
              "    <tr>\n",
              "      <th>dance, fire</th>\n",
              "      <td>1</td>\n",
              "    </tr>\n",
              "    <tr>\n",
              "      <th>flower, fire</th>\n",
              "      <td>1</td>\n",
              "    </tr>\n",
              "    <tr>\n",
              "      <th>dance, car</th>\n",
              "      <td>1</td>\n",
              "    </tr>\n",
              "    <tr>\n",
              "      <th>flower, car</th>\n",
              "      <td>1</td>\n",
              "    </tr>\n",
              "    <tr>\n",
              "      <th>car, sunset</th>\n",
              "      <td>1</td>\n",
              "    </tr>\n",
              "  </tbody>\n",
              "</table>\n",
              "</div><br><label><b>dtype:</b> int64</label>"
            ]
          },
          "metadata": {},
          "execution_count": 11
        }
      ],
      "execution_count": null
    },
    {
      "cell_type": "code",
      "source": [
        "df_train = df_train.dropna()"
      ],
      "metadata": {
        "trusted": true,
        "execution": {
          "iopub.status.busy": "2025-04-16T20:32:09.652674Z",
          "iopub.execute_input": "2025-04-16T20:32:09.652954Z",
          "iopub.status.idle": "2025-04-16T20:32:09.657788Z",
          "shell.execute_reply.started": "2025-04-16T20:32:09.652934Z",
          "shell.execute_reply": "2025-04-16T20:32:09.656974Z"
        },
        "id": "ogo95wAeXrOV"
      },
      "outputs": [],
      "execution_count": null
    },
    {
      "cell_type": "code",
      "source": [
        "print(f\"Количество размеченных видео в DataFrame: {len(set(df_train['path'].values))}\")\n",
        "print(f\"Количество видео в папке train/: {len(set(os.listdir(f'{samyanis_videos_path}/train')))}\")"
      ],
      "metadata": {
        "trusted": true,
        "execution": {
          "iopub.status.busy": "2025-04-16T20:13:11.080154Z",
          "iopub.execute_input": "2025-04-16T20:13:11.08048Z",
          "iopub.status.idle": "2025-04-16T20:13:11.183237Z",
          "shell.execute_reply.started": "2025-04-16T20:13:11.08046Z",
          "shell.execute_reply": "2025-04-16T20:13:11.18249Z"
        },
        "colab": {
          "base_uri": "https://localhost:8080/"
        },
        "id": "YLTqDoy3XrOV",
        "outputId": "8d74ff88-bb5d-4652-ad33-60daad7f301a"
      },
      "outputs": [
        {
          "output_type": "stream",
          "name": "stdout",
          "text": [
            "Количество размеченных видео в DataFrame: 407\n",
            "Количество видео в папке train/: 408\n"
          ]
        }
      ],
      "execution_count": null
    },
    {
      "cell_type": "markdown",
      "source": [
        "# Подготовка данных"
      ],
      "metadata": {
        "id": "yVoygMbIXrOW"
      }
    },
    {
      "cell_type": "code",
      "source": [
        "# Размелим датасет на обучающую и валидационную выборку, т.е. train_test_split, только самописный\n",
        "\n",
        "from sklearn.model_selection import train_test_split\n",
        "\n",
        "# Создаем список классов с 1 объектом\n",
        "rare_classes = df_train['labels'].value_counts()[df_train['labels'].value_counts() == 1].index.tolist()\n",
        "\n",
        "# Разделяем данные:\n",
        "# 1. Сначала выделяем редкие классы в тренировочную выборку\n",
        "train_rare = df_train[df_train['labels'].isin(rare_classes)]\n",
        "\n",
        "# 2. Остальные данные делим стандартным способом (80/20)\n",
        "df_common = df_train[~df_train['labels'].isin(rare_classes)]\n",
        "train_common, df_valid = train_test_split(df_common, test_size=0.2, stratify=df_common['labels'], random_state=42)\n",
        "\n",
        "# 3. Объединяем редкие классы с основной тренировочной выборкой\n",
        "df_train = pd.concat([train_common, train_rare]).sample(frac=1, random_state=42)  # shuffle\n",
        "\n",
        "# Сброс индексов\n",
        "df_train.reset_index(drop=True, inplace=True)\n",
        "df_valid.reset_index(drop=True, inplace=True)\n",
        "\n",
        "print(f'Train shape: {df_train.shape}')\n",
        "print(f'Valid shape: {df_valid.shape}')\n",
        "print(\"\\nРаспределение в train:\\n\", df_train['labels'].value_counts())\n",
        "print(\"\\nРаспределение в valid:\\n\", df_valid['labels'].value_counts())"
      ],
      "metadata": {
        "trusted": true,
        "execution": {
          "iopub.status.busy": "2025-04-16T20:33:21.423247Z",
          "iopub.execute_input": "2025-04-16T20:33:21.424091Z",
          "iopub.status.idle": "2025-04-16T20:33:21.439517Z",
          "shell.execute_reply.started": "2025-04-16T20:33:21.424059Z",
          "shell.execute_reply": "2025-04-16T20:33:21.438886Z"
        },
        "colab": {
          "base_uri": "https://localhost:8080/"
        },
        "id": "BjFWRkIsXrOW",
        "outputId": "6cbace53-3636-4da4-b066-c1ba52d86848"
      },
      "outputs": [
        {
          "output_type": "stream",
          "name": "stdout",
          "text": [
            "Train shape: (329, 2)\n",
            "Valid shape: (82, 2)\n",
            "\n",
            "Распределение в train:\n",
            " labels\n",
            "water            80\n",
            "food             40\n",
            "cloud            37\n",
            "car              30\n",
            "flower           30\n",
            "sunset           25\n",
            "cloud, water     22\n",
            "dance            18\n",
            "animal           17\n",
            "cloud, sunset     6\n",
            "water, sunset     6\n",
            "fire              5\n",
            "cloud, car        4\n",
            "flower, cloud     2\n",
            "car, water        2\n",
            "flower, fire      1\n",
            "dance, fire       1\n",
            "dance, car        1\n",
            "car, sunset       1\n",
            "flower, car       1\n",
            "Name: count, dtype: int64\n",
            "\n",
            "Распределение в valid:\n",
            " labels\n",
            "water            20\n",
            "food             10\n",
            "cloud             9\n",
            "car               8\n",
            "flower            8\n",
            "sunset            6\n",
            "cloud, water      6\n",
            "dance             5\n",
            "animal            4\n",
            "fire              2\n",
            "water, sunset     2\n",
            "cloud, car        1\n",
            "cloud, sunset     1\n",
            "Name: count, dtype: int64\n"
          ]
        }
      ],
      "execution_count": null
    },
    {
      "cell_type": "code",
      "source": [
        "def read_video(path, img_size, transform=None, frames_num=20):\n",
        "    frames = []\n",
        "    cap = cv2.VideoCapture(path)\n",
        "\n",
        "    fps = int(cap.get(cv2.CAP_PROP_FPS))\n",
        "\n",
        "    length = int(cap.get(cv2.CAP_PROP_FRAME_COUNT))\n",
        "    N = length // (frames_num)\n",
        "\n",
        "    current_frame = 1\n",
        "    for i in range(length):\n",
        "        ret, frame = cap.read(current_frame)\n",
        "\n",
        "        if ret and i == current_frame and len(frames) < frames_num:\n",
        "            frame = cv2.cvtColor(frame, cv2.COLOR_BGR2RGB) # все кадры в BGR (поэтому перводим в RGB)\n",
        "            frame = cv2.resize(frame, img_size)\n",
        "\n",
        "            frames.append(frame)\n",
        "            current_frame += N\n",
        "\n",
        "    cap.release()\n",
        "\n",
        "    return frames\n",
        "\n",
        "example_path = f'{samyanis_videos_path}/test/000691821-mexico-puerto-vallarta-ocean_preview.mp4'\n",
        "example_video = read_video(path=example_path, img_size=conf['IMG_SIZE'], transform=None, frames_num=11)\n",
        "len(example_video), example_video[0].shape"
      ],
      "metadata": {
        "trusted": true,
        "execution": {
          "iopub.status.busy": "2025-04-16T20:33:24.017118Z",
          "iopub.execute_input": "2025-04-16T20:33:24.01743Z",
          "iopub.status.idle": "2025-04-16T20:33:24.122068Z",
          "shell.execute_reply.started": "2025-04-16T20:33:24.017377Z",
          "shell.execute_reply": "2025-04-16T20:33:24.121431Z"
        },
        "colab": {
          "base_uri": "https://localhost:8080/"
        },
        "id": "MW63tPSzXrOW",
        "outputId": "0916bb1d-13ae-4713-fbaf-8d6bcea09a2c"
      },
      "outputs": [
        {
          "output_type": "execute_result",
          "data": {
            "text/plain": [
              "(11, (224, 224, 3))"
            ]
          },
          "metadata": {},
          "execution_count": 17
        }
      ],
      "execution_count": null
    },
    {
      "cell_type": "code",
      "source": [
        "import matplotlib.pyplot as plt\n",
        "\n",
        "n = len(example_video)\n",
        "cols = 4  # Кол-во колонок в гриде\n",
        "rows = (n + cols - 1) // cols  # Вычисляем нужное кол-во строк\n",
        "\n",
        "plt.figure(figsize=(6, 5))\n",
        "for i, img in enumerate(example_video):\n",
        "    plt.subplot(rows, cols, i + 1)\n",
        "    plt.imshow(img)\n",
        "    plt.axis('off')\n",
        "\n",
        "plt.tight_layout()\n",
        "plt.show()"
      ],
      "metadata": {
        "trusted": true,
        "execution": {
          "iopub.status.busy": "2025-04-16T20:33:29.006629Z",
          "iopub.execute_input": "2025-04-16T20:33:29.007309Z",
          "iopub.status.idle": "2025-04-16T20:33:29.61501Z",
          "shell.execute_reply.started": "2025-04-16T20:33:29.007289Z",
          "shell.execute_reply": "2025-04-16T20:33:29.614284Z"
        },
        "colab": {
          "base_uri": "https://localhost:8080/",
          "height": 487
        },
        "id": "np9CjeK-XrOX",
        "outputId": "4eea205f-6006-4b9c-c7cf-939f470fce9f"
      },
      "outputs": [
        {
          "output_type": "display_data",
          "data": {
            "text/plain": [
              "<Figure size 600x500 with 11 Axes>"
            ],
            "image/png": "[encoded data removed]"
          },
          "metadata": {}
        }
      ],
      "execution_count": null
    },
    {
      "cell_type": "code",
      "source": [
        "unique_labels = df_train['labels'].unique()\n",
        "classes = {label: idx for idx, label in enumerate(unique_labels)}\n",
        "classes"
      ],
      "metadata": {
        "trusted": true,
        "execution": {
          "iopub.status.busy": "2025-04-16T20:41:57.257212Z",
          "iopub.execute_input": "2025-04-16T20:41:57.257566Z",
          "iopub.status.idle": "2025-04-16T20:41:57.263327Z",
          "shell.execute_reply.started": "2025-04-16T20:41:57.257544Z",
          "shell.execute_reply": "2025-04-16T20:41:57.262701Z"
        },
        "colab": {
          "base_uri": "https://localhost:8080/"
        },
        "id": "n4noW0YmXrOX",
        "outputId": "07d8a034-9a5b-46aa-c635-bd9a36ce79a8"
      },
      "outputs": [
        {
          "output_type": "execute_result",
          "data": {
            "text/plain": [
              "{'water': 0,\n",
              " 'cloud, water': 1,\n",
              " 'sunset': 2,\n",
              " 'car': 3,\n",
              " 'water, sunset': 4,\n",
              " 'cloud, sunset': 5,\n",
              " 'cloud': 6,\n",
              " 'food': 7,\n",
              " 'flower, fire': 8,\n",
              " 'flower': 9,\n",
              " 'dance': 10,\n",
              " 'animal': 11,\n",
              " 'cloud, car': 12,\n",
              " 'flower, cloud': 13,\n",
              " 'dance, fire': 14,\n",
              " 'fire': 15,\n",
              " 'car, water': 16,\n",
              " 'dance, car': 17,\n",
              " 'car, sunset': 18,\n",
              " 'flower, car': 19}"
            ]
          },
          "metadata": {},
          "execution_count": 19
        }
      ],
      "execution_count": null
    },
    {
      "cell_type": "code",
      "source": [
        "class RSNADataset(Dataset):\n",
        "    # def __init__ - конструктор класс\n",
        "    def __init__(self, df,  conf, is_test=False):\n",
        "        self.conf = conf\n",
        "        self.df = df\n",
        "        self.transform = A.Compose([\n",
        "            A.Normalize(),\n",
        "            # ToTensorV2(p=1.0),\n",
        "        ],p=1.)\n",
        "\n",
        "        self.is_test = is_test\n",
        "        self.samples = []\n",
        "        # Создаём словарь: класс -> индекс\n",
        "        self.cls = {'sunset': 0,\n",
        "                     'cloud': 1,\n",
        "                     'water': 2,\n",
        "                     'food': 3,\n",
        "                     'flower': 4,\n",
        "                     'car': 5,\n",
        "                     'cloud, water': 6,\n",
        "                     'animal': 7,\n",
        "                     'dance': 8,\n",
        "                     'fire': 9,\n",
        "                     'cloud, sunset': 10,\n",
        "                     'water, sunset': 11,\n",
        "                     'dance, fire': 12,\n",
        "                     'car, water': 13,\n",
        "                     'dance, car': 14,\n",
        "                     'flower, fire': 15,\n",
        "                     'car, sunset': 16,\n",
        "                     'flower, car': 17,\n",
        "                     'cloud, car': 18,\n",
        "                     'flower, cloud': 19}\n",
        "\n",
        "        if is_test:\n",
        "            for path, label in tzip(df.path, df.labels):\n",
        "                # read_video(путь, размер, кол-во кадров)\n",
        "                frames = read_video(self.conf['video_test_path'] + f'/{path}',\n",
        "                                    self.conf['IMG_SIZE'],\n",
        "                                    self.conf['MAX_FRAMES'])\n",
        "\n",
        "                self.samples +=[{'label': self.cls[str(label)],'frames': frames}]\n",
        "        else:\n",
        "            for path, label in tzip(df.path, df.labels):\n",
        "                # read_video(путь, размер, кол-во кадров)\n",
        "                frames = read_video(self.conf['video_train_path'] + f'/{path}',\n",
        "                                    self.conf['IMG_SIZE'],\n",
        "                                    self.conf['MAX_FRAMES'])\n",
        "\n",
        "                self.samples +=[{'label': self.cls[str(label)],'frames': frames}]\n",
        "\n",
        "    def __len__(self):\n",
        "        return len(self.df)\n",
        "\n",
        "    def __getitem__(self, idx):\n",
        "        sample = self.samples[idx]\n",
        "\n",
        "        frames = sample['frames']\n",
        "        # print(len(frames), frames[0].shape)\n",
        "\n",
        "        # for i in range(len(frames)):\n",
        "        #     frames[i] = frames[i] / 255.0\n",
        "\n",
        "        # if self.transform is not None:\n",
        "        #     for i in range(len(frames)):\n",
        "        #         frames[i] = self.transform(image=np.array(frames[i]))['image']\n",
        "\n",
        "        # torch.from_numpy - перевод в тензоры\n",
        "        # print(torch.from_numpy(frames, axis=2).shape)\n",
        "        frames_tr = torch.from_numpy(np.stack(frames, axis=2)).permute(2, 3, 0, 1)\n",
        "        if self.is_test:\n",
        "            return frames_tr\n",
        "        else:\n",
        "            label = torch.tensor(sample['label']).long()\n",
        "            return frames_tr, label"
      ],
      "metadata": {
        "trusted": true,
        "execution": {
          "iopub.status.busy": "2025-04-16T20:41:59.488816Z",
          "iopub.execute_input": "2025-04-16T20:41:59.489535Z",
          "iopub.status.idle": "2025-04-16T20:41:59.498942Z",
          "shell.execute_reply.started": "2025-04-16T20:41:59.489513Z",
          "shell.execute_reply": "2025-04-16T20:41:59.498398Z"
        },
        "id": "JN8B49GrXrOX"
      },
      "outputs": [],
      "execution_count": null
    },
    {
      "cell_type": "code",
      "source": [
        "%%time\n",
        "\n",
        "train_data = RSNADataset(df_train, conf)\n",
        "\n",
        "train_loader = DataLoader(\n",
        "        train_data,\n",
        "        batch_size=conf['TRAIN_BS'],\n",
        "        shuffle=False\n",
        "    )\n",
        "\n",
        "valid_data = RSNADataset(df_valid, conf)\n",
        "\n",
        "valid_loader = DataLoader(\n",
        "        valid_data,\n",
        "        batch_size=conf['VALID_BS'],\n",
        "        shuffle=False\n",
        "    )"
      ],
      "metadata": {
        "trusted": true,
        "execution": {
          "iopub.status.busy": "2025-04-16T20:45:19.879594Z",
          "iopub.execute_input": "2025-04-16T20:45:19.880252Z",
          "iopub.status.idle": "2025-04-16T20:46:03.795715Z",
          "shell.execute_reply.started": "2025-04-16T20:45:19.88023Z",
          "shell.execute_reply": "2025-04-16T20:46:03.794764Z"
        },
        "colab": {
          "base_uri": "https://localhost:8080/",
          "height": 116,
          "referenced_widgets": [
            "f112fe98e400424caa3f451e773ff522",
            "426ecdb0d55445468edf56ae7d9362c1",
            "28d4dbb3923b43aa90ea389625a5520d",
            "e88f8f4c130845189fd795cfe3e63022",
            "e8c27ec539ca4b76a8d8f5e97bc2ea17",
            "1fa16ef2eb70461aa6f7b1d6625dc4f1",
            "3b05fde0d9954ffc99f0099f33e8bd05",
            "b74e5fb649b840f3b8289c267bb7c42f",
            "407c3a4850fd4a90bf967b7b28b8c67f",
            "04863a8a40354da5b70b1135ca198e9c",
            "61abc4cc040647d8ae27f9cc4b32a9f9",
            "33d8c7320a02496f9db7dc8bdd301f1a",
            "55bfdf2cd8e848c68ed2f8683bf44fce",
            "06c7e9100eaf4d8eb8e1331c9997f316",
            "242132dd4c0349879ac5888eaa2e88da",
            "76788068676f4837ae0b6d238a3a2718",
            "6d453f95e0114d9b9de5393eb040f734",
            "91555743fa934bfca90925aa42adb011",
            "fc5a090289574ecdb3f06cc9768bfea2",
            "b16bda45b8d34ef1b959b8ba5a2819d1",
            "0b7e083b16dd475ab957eafca275fd92",
            "7f5c5f9e6ac64214b77c8511ac0e96a4"
          ]
        },
        "id": "MxHDjjnlXrOX",
        "outputId": "5e329609-882f-4a1a-a76c-cc17f297b353"
      },
      "outputs": [
        {
          "output_type": "display_data",
          "data": {
            "text/plain": [
              "  0%|          | 0/329 [00:00<?, ?it/s]"
            ],
            "application/vnd.jupyter.widget-view+json": {
              "version_major": 2,
              "version_minor": 0,
              "model_id": "f112fe98e400424caa3f451e773ff522"
            }
          },
          "metadata": {}
        },
        {
          "output_type": "display_data",
          "data": {
            "text/plain": [
              "  0%|          | 0/82 [00:00<?, ?it/s]"
            ],
            "application/vnd.jupyter.widget-view+json": {
              "version_major": 2,
              "version_minor": 0,
              "model_id": "33d8c7320a02496f9db7dc8bdd301f1a"
            }
          },
          "metadata": {}
        },
        {
          "output_type": "stream",
          "name": "stdout",
          "text": [
            "CPU times: user 2min 3s, sys: 11.1 s, total: 2min 15s\n",
            "Wall time: 1min 28s\n"
          ]
        }
      ],
      "execution_count": null
    },
    {
      "cell_type": "code",
      "source": [
        "for batch in train_loader:\n",
        "    inputs, labels = batch\n",
        "    print(\"Min label:\", labels.min().item())\n",
        "    print(\"Max label:\", labels.max().item())\n",
        "    break"
      ],
      "metadata": {
        "trusted": true,
        "execution": {
          "iopub.status.busy": "2025-04-16T20:46:07.38015Z",
          "iopub.execute_input": "2025-04-16T20:46:07.38086Z",
          "iopub.status.idle": "2025-04-16T20:46:07.555257Z",
          "shell.execute_reply.started": "2025-04-16T20:46:07.380827Z",
          "shell.execute_reply": "2025-04-16T20:46:07.554514Z"
        },
        "colab": {
          "base_uri": "https://localhost:8080/"
        },
        "id": "E0nJHjcpXrOY",
        "outputId": "c77756f7-c369-4d84-e668-d2acc4342148"
      },
      "outputs": [
        {
          "output_type": "stream",
          "name": "stdout",
          "text": [
            "Min label: 0\n",
            "Max label: 11\n"
          ]
        }
      ],
      "execution_count": null
    },
    {
      "cell_type": "code",
      "source": [
        "print(f'Sample len (это эквивалентно количество видео): {len(train_data.samples)}') # всего в датасете 522 видео\n",
        "print(f'Что лежит в одном видео: {len(train_data.samples[0])}') # в каждом видео лежат два ключа\n",
        "print(f'Какие ключи: {train_data.samples[0].keys()}')# в каждом видео лежат два ключа\n",
        "print(f'Что лежит в ключе labels: {train_data.samples[0][\"label\"]}')# ключ label\n",
        "print(f'размерность данных по ключу frames: {len(train_data.samples[0][\"frames\"])}')# лежит 6, так как кадров из видео 6\n",
        "print(f'Размерность одного кадра, frame: {train_data.samples[0][\"frames\"][0].shape}') # что лежит в одном кадре, его размерность"
      ],
      "metadata": {
        "trusted": true,
        "execution": {
          "iopub.status.busy": "2025-04-16T20:46:11.350287Z",
          "iopub.execute_input": "2025-04-16T20:46:11.350895Z",
          "iopub.status.idle": "2025-04-16T20:46:11.356253Z",
          "shell.execute_reply.started": "2025-04-16T20:46:11.350871Z",
          "shell.execute_reply": "2025-04-16T20:46:11.355672Z"
        },
        "colab": {
          "base_uri": "https://localhost:8080/"
        },
        "id": "Ju6bxolVXrOm",
        "outputId": "021cebbb-350b-47e5-d920-099c85b61c4f"
      },
      "outputs": [
        {
          "output_type": "stream",
          "name": "stdout",
          "text": [
            "Sample len (это эквивалентно количество видео): 329\n",
            "Что лежит в одном видео: 2\n",
            "Какие ключи: dict_keys(['label', 'frames'])\n",
            "Что лежит в ключе labels: 2\n",
            "размерность данных по ключу frames: 20\n",
            "Размерность одного кадра, frame: (224, 224, 3)\n"
          ]
        }
      ],
      "execution_count": null
    },
    {
      "cell_type": "markdown",
      "source": [
        "# Подготовка модели"
      ],
      "metadata": {
        "id": "Wvpz55mtXrOn"
      }
    },
    {
      "cell_type": "code",
      "source": [
        "## Model Class\n",
        "\n",
        "class ResNextModel(nn.Module):\n",
        "    def __init__(self, conf):\n",
        "        super(ResNextModel, self).__init__()\n",
        "        self.conf = conf\n",
        "        self.backbone = timm.create_model(self.conf['FEATURE_EXTRACTOR'],\n",
        "                                          pretrained=True)\n",
        "\n",
        "    def forward(self, x):\n",
        "        return self.backbone(x)\n",
        "\n",
        "\n",
        "class Identity(nn.Module):\n",
        "    def __init__(self):\n",
        "        super(Identity, self).__init__()\n",
        "\n",
        "    def forward(self, x):\n",
        "        return x\n",
        "\n",
        "\n",
        "class RSNAModel(nn.Module):\n",
        "    def __init__(self, conf, pretrained=True):\n",
        "        super(RSNAModel, self).__init__()\n",
        "        self.conf = conf\n",
        "        self.backbone = ResNextModel(self.conf)\n",
        "        for param in self.backbone.parameters():\n",
        "            param.requires_grad = False\n",
        "        self.num_features = self.backbone.backbone.fc.in_features\n",
        "\n",
        "        self.backbone.backbone.fc = Identity()\n",
        "        self.dropout = nn.Dropout(self.conf['DR_RATE'])\n",
        "        self.rnn = nn.LSTM(self.num_features, self.conf['RNN_HIDDEN_SIZE'],\n",
        "                           self.conf['RNN_LAYERS'], dropout=0.1,\n",
        "                           batch_first=True, bidirectional=True)  # bidirectional=True\n",
        "        self.fc1 = nn.Linear(self.conf['RNN_HIDDEN_SIZE'] * 2, self.conf['NUM_CLASSES']) #выходной слой\n",
        "\n",
        "    def forward(self, x):\n",
        "        b, f, c, h, w = x.shape\n",
        "        # print(x.reshape(b * f, c, h, w).shape)\n",
        "        x = self.backbone(x.reshape(b * f, c, h, w))\n",
        "        # print(x.shape)\n",
        "        x = x.reshape(b, f, self.num_features)\n",
        "        # print(x.shape)\n",
        "        x, _ = self.rnn(x)\n",
        "        # print(x.shape)\n",
        "        x = self.dropout(x[:, -1])  #\n",
        "        # print(x.shape, self.num_features)\n",
        "        x = self.fc1(x)\n",
        "        return x"
      ],
      "metadata": {
        "trusted": true,
        "execution": {
          "iopub.status.busy": "2025-04-16T20:46:13.6411Z",
          "iopub.execute_input": "2025-04-16T20:46:13.641814Z",
          "iopub.status.idle": "2025-04-16T20:46:13.649891Z",
          "shell.execute_reply.started": "2025-04-16T20:46:13.641788Z",
          "shell.execute_reply": "2025-04-16T20:46:13.649289Z"
        },
        "id": "awzGtqPZXrOn"
      },
      "outputs": [],
      "execution_count": null
    },
    {
      "cell_type": "code",
      "source": [
        "def train_one_epoch(model, train_dataloader, optimizer, loss_fn, epoch, device, verbose=False):\n",
        "    \"\"\"\n",
        "    Trains model for one epoch\n",
        "    \"\"\"\n",
        "    model.train()\n",
        "    running_loss = 0\n",
        "    # for i in tqdm([]))\n",
        "    prog_bar = tqdm(enumerate(train_dataloader), total=len(train_dataloader))\n",
        "    for batch, (frames, targets) in prog_bar:\n",
        "        optimizer.zero_grad()\n",
        "\n",
        "        frames = frames.to(device, torch.float)\n",
        "        targets = targets.to(device)\n",
        "\n",
        "        # # Re arrange the frames in the format our model wants to recieve\n",
        "        preds = model(frames)\n",
        "        loss = loss_fn(preds, targets)\n",
        "\n",
        "        loss.backward()\n",
        "        optimizer.step()\n",
        "\n",
        "        loss_item = loss.item()\n",
        "        running_loss += loss_item\n",
        "\n",
        "        prog_bar.set_description(f\"loss: {loss_item:.4f}\")\n",
        "\n",
        "        if verbose == True and batch % 20 == 0:\n",
        "            print(f\"Batch: {batch}, Loss: {loss_item}\")\n",
        "\n",
        "    avg_loss = running_loss / len(train_dataloader)\n",
        "\n",
        "    return avg_loss\n",
        "\n",
        "@torch.no_grad()\n",
        "# def train_one_epoch(model, train_dataloader, optimizer, loss_fn, epoch, device, log_wandb=True, verbose=False):\n",
        "def valid_one_epoch(model, valid_dataloader, loss_fn, epoch, device, verbose=False):\n",
        "    \"\"\"\n",
        "    Validates the model for one epoch\n",
        "    \"\"\"\n",
        "    model.eval()\n",
        "    running_loss = 0\n",
        "    prog_bar = tqdm(enumerate(valid_dataloader), total=len(valid_dataloader))\n",
        "    for batch, (frames, targets) in prog_bar:\n",
        "        frames = frames.to(device, torch.float)\n",
        "        targets = targets.to(device)\n",
        "\n",
        "        # Re arrange the frames in the format our model wants to recieve\n",
        "        preds = model(frames)\n",
        "        loss = loss_fn(preds, targets)\n",
        "\n",
        "        loss_item = loss.item()\n",
        "        running_loss += loss_item\n",
        "\n",
        "        prog_bar.set_description(f\"val_loss: {loss_item:.4f}\")\n",
        "\n",
        "\n",
        "        if verbose == True and batch % 10 == 0:\n",
        "            print(f\"Batch: {batch}, Loss: {loss_item}\")\n",
        "\n",
        "    avg_val_loss = running_loss / len(valid_dataloader)\n",
        "\n",
        "    return avg_val_loss"
      ],
      "metadata": {
        "trusted": true,
        "execution": {
          "iopub.status.busy": "2025-04-16T20:46:19.812591Z",
          "iopub.execute_input": "2025-04-16T20:46:19.812867Z",
          "iopub.status.idle": "2025-04-16T20:46:19.820651Z",
          "shell.execute_reply.started": "2025-04-16T20:46:19.812848Z",
          "shell.execute_reply": "2025-04-16T20:46:19.819836Z"
        },
        "id": "IXfcLEycXrOn"
      },
      "outputs": [],
      "execution_count": null
    },
    {
      "cell_type": "code",
      "source": [
        "# Функция main, которая собирает все вместе\n",
        "# она принимает разные конфигурации для выполнения всех программ\n",
        "# лоадер данных - df_loader\n",
        "# df - это датафрейм (где путь, класс)\n",
        "# output_path - путь куда сохранить ответы\n",
        "# device - GPU/CPU - на чем делать вычисления\n",
        "def main(conf, train_loader, valid_loader,  output_path, device):\n",
        "\n",
        "    # создаем модель\n",
        "    model = RSNAModel(conf)\n",
        "    # передаем модели на чем делать вычисления GPU/CPU\n",
        "    model = model.to(device)\n",
        "\n",
        "    # Тут начинается обучение модели\n",
        "    model.train()\n",
        "    optimizer = torch.optim.AdamW(model.parameters(), lr=conf['LR'])\n",
        "    # SGD\n",
        "\n",
        "    train_loss_fn = nn.CrossEntropyLoss()\n",
        "    valid_loss_fn = nn.CrossEntropyLoss()\n",
        "\n",
        "    # train_loss_fn = nn.BCEWithLogitsLoss()\n",
        "    # valid_loss_fn = nn.BCEWithLogitsLoss()\n",
        "\n",
        "    print(f\"\\nUsing Backbone: {conf['FEATURE_EXTRACTOR']}\")\n",
        "    conf['EPOCHS'] = 10\n",
        "    current_loss = 1000\n",
        "    for epoch in range(conf['EPOCHS']):\n",
        "        print(f\"\\n{'--'*8} EPOCH: {epoch+1} {'--'*8}\\n\")\n",
        "\n",
        "        train_loss = train_one_epoch(model,\n",
        "                                     train_loader,\n",
        "                                     optimizer,\n",
        "                                     train_loss_fn,\n",
        "                                     epoch=epoch, device=device)\n",
        "\n",
        "        valid_loss = valid_one_epoch(model,\n",
        "                                     valid_loader,\n",
        "                                     valid_loss_fn,\n",
        "                                     epoch=epoch, device=device)\n",
        "\n",
        "        print(f\"val_loss: {valid_loss:.4f}\")\n",
        "\n",
        "        if valid_loss < current_loss:\n",
        "            current_loss = valid_loss\n",
        "            torch.save(model.state_dict(), f\"model_{conf['FEATURE_EXTRACTOR']}.pt\")\n",
        "\n",
        "    # тут происходит предсказание ответа\n",
        "    gt = []\n",
        "    pred = [] # массив куда будем сохранять ответы\n",
        "    model.eval()\n",
        "\n",
        "    # prog_bar - это просто чтобы красиво выводился процесс вычисления\n",
        "    # в виде бегущей крассивой штукой и показом процента выполнения\n",
        "    gt = []\n",
        "    pred = []\n",
        "    model.eval()\n",
        "    prog_bar = tqdm(enumerate(valid_loader), total=len(valid_loader))\n",
        "    for batch, (frames, targets) in prog_bar:\n",
        "        frames = frames.to('cuda').float()\n",
        "        gt +=  list(targets.numpy())\n",
        "        with torch.no_grad():\n",
        "\n",
        "            pred += list(model(frames).argmax(dim=-1).to('cpu').flatten().numpy())\n",
        "\n",
        "    torch.save(model.state_dict(),'sample_model.pt')\n",
        "\n",
        "    # сохраняем ответы в датафрейм с путями в новую колонку labels_pred\n",
        "    df_valid['labels_pred'] = pred\n",
        "\n",
        "    # сохраняем ответы в файл csv\n",
        "    os.makedirs(output_path, exist_ok=True)\n",
        "    df_valid['labels_pred'].to_csv(output_path + 'predictions.csv')"
      ],
      "metadata": {
        "trusted": true,
        "execution": {
          "iopub.status.busy": "2025-04-16T20:46:26.181824Z",
          "iopub.execute_input": "2025-04-16T20:46:26.182302Z",
          "iopub.status.idle": "2025-04-16T20:46:26.191737Z",
          "shell.execute_reply.started": "2025-04-16T20:46:26.182271Z",
          "shell.execute_reply": "2025-04-16T20:46:26.190892Z"
        },
        "id": "SN_nGaxMXrOn"
      },
      "outputs": [],
      "execution_count": null
    },
    {
      "cell_type": "code",
      "source": [
        "%%time\n",
        "\n",
        "# ВСЕ ЗАПУСКАЕМ\n",
        "\n",
        "if torch.cuda.is_available():\n",
        "    print(\"Using GPU: {}\\n\".format(torch.cuda.get_device_name()))\n",
        "    device = torch.device('cuda')\n",
        "else:\n",
        "    print(\"\\nGPU not found. Using CPU: {}\\n\".format(platform.processor()))\n",
        "    device = torch.device('cpu')\n",
        "\n",
        "main(conf, train_loader, valid_loader, 'output/', device)"
      ],
      "metadata": {
        "trusted": true,
        "execution": {
          "iopub.status.busy": "2025-04-16T20:46:37.731449Z",
          "iopub.execute_input": "2025-04-16T20:46:37.731741Z",
          "iopub.status.idle": "2025-04-16T20:46:39.060717Z",
          "shell.execute_reply.started": "2025-04-16T20:46:37.731722Z",
          "shell.execute_reply": "2025-04-16T20:46:39.06007Z"
        },
        "colab": {
          "base_uri": "https://localhost:8080/"
        },
        "id": "uMC55sj_XrOo",
        "outputId": "b4fee3d9-9832-4255-c808-6c35ae4ed9d9"
      },
      "outputs": [
        {
          "output_type": "stream",
          "name": "stdout",
          "text": [
            "Using GPU: Tesla T4\n",
            "\n",
            "\n",
            "Using Backbone: resnext101_64x4d\n",
            "\n",
            "---------------- EPOCH: 1 ----------------\n",
            "\n"
          ]
        },
        {
          "output_type": "stream",
          "name": "stderr",
          "text": [
            "loss: 2.7306:  27%|██▋       | 9/33 [00:23<01:04,  2.68s/it]"
          ]
        }
      ],
      "execution_count": null
    },
    {
      "cell_type": "code",
      "source": [
        "unique_labels = df_train['labels'].unique()\n",
        "classes = {label: idx for idx, label in enumerate(unique_labels)}\n",
        "df_valid['labels_idx'] = df_valid['labels'].map(classes)\n",
        "\n",
        "df_valid.head()"
      ],
      "metadata": {
        "trusted": true,
        "execution": {
          "iopub.status.busy": "2025-04-09T14:37:30.998155Z",
          "iopub.execute_input": "2025-04-09T14:37:30.998523Z",
          "iopub.status.idle": "2025-04-09T14:37:31.010947Z",
          "shell.execute_reply.started": "2025-04-09T14:37:30.998487Z",
          "shell.execute_reply": "2025-04-09T14:37:31.010203Z"
        },
        "id": "bMgh7ZjoXrOo",
        "outputId": "a4acf3c1-97b1-4d19-d940-172554574717"
      },
      "outputs": [
        {
          "execution_count": 26,
          "output_type": "execute_result",
          "data": {
            "text/plain": "                                             path  labels  labels_pred  \\\n0  000984125-marina-kona-coast-hawaii_preview.mp4  flower            1   \n1     _import_614efb3229e902.59139691_preview.mp4  sunset            2   \n2         160825_05_Sunflowers3_1080p_preview.mp4  flower            3   \n3             210603_02_July 4_4k_003_preview.mp4    food            5   \n4                 port_before_sunrise_preview.mp4  sunset            1   \n\n   labels_idx  \n0           3  \n1           2  \n2           3  \n3           5  \n4           2  ",
            "text/html": "<div>\n<style scoped>\n    .dataframe tbody tr th:only-of-type {\n        vertical-align: middle;\n    }\n\n    .dataframe tbody tr th {\n        vertical-align: top;\n    }\n\n    .dataframe thead th {\n        text-align: right;\n    }\n</style>\n<table border=\"1\" class=\"dataframe\">\n  <thead>\n    <tr style=\"text-align: right;\">\n      <th></th>\n      <th>path</th>\n      <th>labels</th>\n      <th>labels_pred</th>\n      <th>labels_idx</th>\n    </tr>\n  </thead>\n  <tbody>\n    <tr>\n      <th>0</th>\n      <td>000984125-marina-kona-coast-hawaii_preview.mp4</td>\n      <td>flower</td>\n      <td>1</td>\n      <td>3</td>\n    </tr>\n    <tr>\n      <th>1</th>\n      <td>_import_614efb3229e902.59139691_preview.mp4</td>\n      <td>sunset</td>\n      <td>2</td>\n      <td>2</td>\n    </tr>\n    <tr>\n      <th>2</th>\n      <td>160825_05_Sunflowers3_1080p_preview.mp4</td>\n      <td>flower</td>\n      <td>3</td>\n      <td>3</td>\n    </tr>\n    <tr>\n      <th>3</th>\n      <td>210603_02_July 4_4k_003_preview.mp4</td>\n      <td>food</td>\n      <td>5</td>\n      <td>5</td>\n    </tr>\n    <tr>\n      <th>4</th>\n      <td>port_before_sunrise_preview.mp4</td>\n      <td>sunset</td>\n      <td>1</td>\n      <td>2</td>\n    </tr>\n  </tbody>\n</table>\n</div>"
          },
          "metadata": {}
        }
      ],
      "execution_count": null
    },
    {
      "cell_type": "code",
      "source": [
        "from sklearn.metrics import accuracy_score, f1_score\n",
        "\n",
        "print(accuracy_score(df_valid['labels_idx'].values, df_valid['labels_pred'].values))\n",
        "print(f1_score(df_valid['labels_idx'].values, df_valid['labels_pred'].values, average='weighted'))"
      ],
      "metadata": {
        "trusted": true,
        "execution": {
          "iopub.status.busy": "2025-04-09T14:37:31.012964Z",
          "iopub.execute_input": "2025-04-09T14:37:31.013244Z",
          "iopub.status.idle": "2025-04-09T14:37:31.403902Z",
          "shell.execute_reply.started": "2025-04-09T14:37:31.013223Z",
          "shell.execute_reply": "2025-04-09T14:37:31.403111Z"
        },
        "id": "E4_SDL21XrOo",
        "outputId": "c4c349fd-75ef-4d90-870e-992b20f9b51f"
      },
      "outputs": [
        {
          "name": "stdout",
          "text": "0.603448275862069\n0.5807710545033061\n",
          "output_type": "stream"
        }
      ],
      "execution_count": null
    },
    {
      "cell_type": "code",
      "source": [
        "from sklearn.metrics import confusion_matrix\n",
        "import seaborn as sns\n",
        "import matplotlib.pyplot as plt\n",
        "\n",
        "conf_matrix = confusion_matrix(df_valid['labels_idx'].values, df_valid['labels_pred'].values)\n",
        "\n",
        "sns.heatmap(conf_matrix, annot = True, cmap=\"YlGnBu\", linecolor='white', linewidths=1)"
      ],
      "metadata": {
        "trusted": true,
        "execution": {
          "iopub.status.busy": "2025-04-09T14:37:31.405124Z",
          "iopub.execute_input": "2025-04-09T14:37:31.405763Z",
          "iopub.status.idle": "2025-04-09T14:37:32.109502Z",
          "shell.execute_reply.started": "2025-04-09T14:37:31.405737Z",
          "shell.execute_reply": "2025-04-09T14:37:32.108738Z"
        },
        "id": "HkOmIVntXrOo",
        "outputId": "4b894070-3e46-429c-b319-1677777fbc9b"
      },
      "outputs": [
        {
          "execution_count": 28,
          "output_type": "execute_result",
          "data": {
            "text/plain": "<Axes: >"
          },
          "metadata": {}
        },
        {
          "output_type": "display_data",
          "data": {
            "text/plain": "<Figure size 640x480 with 2 Axes>",
            "image/png": "[encoded data removed]"
          },
          "metadata": {}
        }
      ],
      "execution_count": null
    },
    {
      "cell_type": "markdown",
      "source": [
        "# Подготовка ответов для test"
      ],
      "metadata": {
        "id": "1j7Eb1tVXrOp"
      }
    },
    {
      "cell_type": "code",
      "source": [
        "sample_submit.columns = ['index', 'path', 'labels']\n",
        "sample_submit['labels'] = 'animal'\n",
        "sample_submit"
      ],
      "metadata": {
        "trusted": true,
        "execution": {
          "iopub.status.busy": "2025-04-09T14:46:14.162636Z",
          "iopub.execute_input": "2025-04-09T14:46:14.162977Z",
          "iopub.status.idle": "2025-04-09T14:46:14.173511Z",
          "shell.execute_reply.started": "2025-04-09T14:46:14.162949Z",
          "shell.execute_reply": "2025-04-09T14:46:14.172512Z"
        },
        "id": "UhKsknKbXrOp",
        "outputId": "0838d169-848c-44c8-8985-bf286838000c"
      },
      "outputs": [
        {
          "execution_count": 51,
          "output_type": "execute_result",
          "data": {
            "text/plain": "     index                                               path  labels\n0        0      Arizona sunset with creosote bush_preview.mp4  animal\n1        1        _import_616e7f78a17260.13545125_preview.mp4  animal\n2        2          200506_Kitchen Food_04_4k_032_preview.mp4  animal\n3        3                        Pordeitev_smrek_preview.mp4  animal\n4        4         City street time lapse-H264 75_preview.mp4  animal\n..     ...                                                ...     ...\n430    430                           Sydney_storm_preview.mp4  animal\n431    431            Alaska spring shrub in wind_preview.mp4  animal\n432    432       190111_16_MuayThaiTraining_HD_04_preview.mp4  animal\n433    433  Ireland Dingle Peninsula road above sea cliffs...  animal\n434    434  026202866-greenland-ice-fjord-mountains-_previ...  animal\n\n[435 rows x 3 columns]",
            "text/html": "<div>\n<style scoped>\n    .dataframe tbody tr th:only-of-type {\n        vertical-align: middle;\n    }\n\n    .dataframe tbody tr th {\n        vertical-align: top;\n    }\n\n    .dataframe thead th {\n        text-align: right;\n    }\n</style>\n<table border=\"1\" class=\"dataframe\">\n  <thead>\n    <tr style=\"text-align: right;\">\n      <th></th>\n      <th>index</th>\n      <th>path</th>\n      <th>labels</th>\n    </tr>\n  </thead>\n  <tbody>\n    <tr>\n      <th>0</th>\n      <td>0</td>\n      <td>Arizona sunset with creosote bush_preview.mp4</td>\n      <td>animal</td>\n    </tr>\n    <tr>\n      <th>1</th>\n      <td>1</td>\n      <td>_import_616e7f78a17260.13545125_preview.mp4</td>\n      <td>animal</td>\n    </tr>\n    <tr>\n      <th>2</th>\n      <td>2</td>\n      <td>200506_Kitchen Food_04_4k_032_preview.mp4</td>\n      <td>animal</td>\n    </tr>\n    <tr>\n      <th>3</th>\n      <td>3</td>\n      <td>Pordeitev_smrek_preview.mp4</td>\n      <td>animal</td>\n    </tr>\n    <tr>\n      <th>4</th>\n      <td>4</td>\n      <td>City street time lapse-H264 75_preview.mp4</td>\n      <td>animal</td>\n    </tr>\n    <tr>\n      <th>...</th>\n      <td>...</td>\n      <td>...</td>\n      <td>...</td>\n    </tr>\n    <tr>\n      <th>430</th>\n      <td>430</td>\n      <td>Sydney_storm_preview.mp4</td>\n      <td>animal</td>\n    </tr>\n    <tr>\n      <th>431</th>\n      <td>431</td>\n      <td>Alaska spring shrub in wind_preview.mp4</td>\n      <td>animal</td>\n    </tr>\n    <tr>\n      <th>432</th>\n      <td>432</td>\n      <td>190111_16_MuayThaiTraining_HD_04_preview.mp4</td>\n      <td>animal</td>\n    </tr>\n    <tr>\n      <th>433</th>\n      <td>433</td>\n      <td>Ireland Dingle Peninsula road above sea cliffs...</td>\n      <td>animal</td>\n    </tr>\n    <tr>\n      <th>434</th>\n      <td>434</td>\n      <td>026202866-greenland-ice-fjord-mountains-_previ...</td>\n      <td>animal</td>\n    </tr>\n  </tbody>\n</table>\n<p>435 rows × 3 columns</p>\n</div>"
          },
          "metadata": {}
        }
      ],
      "execution_count": null
    },
    {
      "cell_type": "code",
      "source": [
        "test_data = RSNADataset(sample_submit, conf, is_test=True)\n",
        "\n",
        "test_loader = DataLoader(\n",
        "        test_data,\n",
        "        batch_size=7,\n",
        "        shuffle=False\n",
        "    )"
      ],
      "metadata": {
        "trusted": true,
        "execution": {
          "iopub.status.busy": "2025-04-09T14:46:51.401952Z",
          "iopub.execute_input": "2025-04-09T14:46:51.402299Z",
          "iopub.status.idle": "2025-04-09T14:46:51.442928Z",
          "shell.execute_reply.started": "2025-04-09T14:46:51.402264Z",
          "shell.execute_reply": "2025-04-09T14:46:51.442068Z"
        },
        "colab": {
          "referenced_widgets": [
            "c720f471e53b4bf2acf304d534cf4705"
          ]
        },
        "id": "r1yxRCePXrOp",
        "outputId": "d76bb4f4-6c94-476f-de68-6d039de8aacf"
      },
      "outputs": [
        {
          "output_type": "display_data",
          "data": {
            "text/plain": "  0%|          | 0/435 [00:00<?, ?it/s]",
            "application/vnd.jupyter.widget-view+json": {
              "version_major": 2,
              "version_minor": 0,
              "model_id": "c720f471e53b4bf2acf304d534cf4705"
            }
          },
          "metadata": {}
        }
      ],
      "execution_count": null
    },
    {
      "cell_type": "code",
      "source": [
        "for frames in test_loader:\n",
        "    print(frames.shape)\n",
        "    break"
      ],
      "metadata": {
        "trusted": true,
        "execution": {
          "iopub.status.busy": "2025-04-09T15:14:36.492367Z",
          "iopub.execute_input": "2025-04-09T15:14:36.492669Z",
          "iopub.status.idle": "2025-04-09T15:14:36.535966Z",
          "shell.execute_reply.started": "2025-04-09T15:14:36.492644Z",
          "shell.execute_reply": "2025-04-09T15:14:36.53512Z"
        },
        "id": "EAKWStTeXrOp",
        "outputId": "5e3ef4e5-d0bf-4968-f61c-b6dcc6226b0e"
      },
      "outputs": [
        {
          "name": "stdout",
          "text": "torch.Size([7, 11, 3, 224, 224])\n",
          "output_type": "stream"
        }
      ],
      "execution_count": null
    },
    {
      "cell_type": "code",
      "source": [
        "model = RSNAModel(conf)\n",
        "# передаем модели на чем делать вычисления GPU/CPU\n",
        "model.load_state_dict(torch.load('sample_model.pt', weights_only=True))\n",
        "model = model.to(device)"
      ],
      "metadata": {
        "trusted": true,
        "execution": {
          "iopub.status.busy": "2025-04-09T15:14:54.258434Z",
          "iopub.execute_input": "2025-04-09T15:14:54.25876Z",
          "iopub.status.idle": "2025-04-09T15:14:56.263789Z",
          "shell.execute_reply.started": "2025-04-09T15:14:54.258734Z",
          "shell.execute_reply": "2025-04-09T15:14:56.263069Z"
        },
        "id": "-8i4ugy8XrOp"
      },
      "outputs": [],
      "execution_count": null
    },
    {
      "cell_type": "code",
      "source": [
        "# тут происходит предсказание ответа\n",
        "gt = []\n",
        "pred = [] # массив куда будем сохранять ответы\n",
        "model.eval()\n",
        "\n",
        "# prog_bar - это просто чтобы красиво выводился процесс вычисления\n",
        "# в виде бегущей крассивой штукой и показом процента выполнения\n",
        "gt = []\n",
        "pred = []\n",
        "model.eval()\n",
        "prog_bar = tqdm(enumerate(test_loader), total=len(test_loader))\n",
        "\n",
        "for batch, frames in prog_bar:\n",
        "    frames = frames.to('cuda').float()\n",
        "    with torch.no_grad():\n",
        "        pred += list(model(frames).argmax(dim=-1).to('cpu').flatten().numpy())\n",
        "\n",
        "# сохраняем ответы в датафрейм с путями в новую колонку labels_pred\n",
        "sample_submit['labels_pred'] = pred"
      ],
      "metadata": {
        "trusted": true,
        "execution": {
          "iopub.status.busy": "2025-04-09T15:14:57.767584Z",
          "iopub.execute_input": "2025-04-09T15:14:57.767935Z",
          "iopub.status.idle": "2025-04-09T15:15:56.868874Z",
          "shell.execute_reply.started": "2025-04-09T15:14:57.767903Z",
          "shell.execute_reply": "2025-04-09T15:15:56.867926Z"
        },
        "id": "nyfAM2wFXrOp",
        "outputId": "9924eacc-61ba-4a4a-efe3-f65a21681847"
      },
      "outputs": [
        {
          "name": "stderr",
          "text": "100%|██████████| 63/63 [00:59<00:00,  1.07it/s]\n",
          "output_type": "stream"
        }
      ],
      "execution_count": null
    },
    {
      "cell_type": "code",
      "source": [
        "my_submit = pd.read_csv('/kaggle/input/what-on-the-video/sample_submit.csv')\n",
        "my_submit"
      ],
      "metadata": {
        "trusted": true,
        "execution": {
          "iopub.status.busy": "2025-04-09T15:15:56.870166Z",
          "iopub.execute_input": "2025-04-09T15:15:56.87052Z",
          "iopub.status.idle": "2025-04-09T15:15:56.891333Z",
          "shell.execute_reply.started": "2025-04-09T15:15:56.870484Z",
          "shell.execute_reply": "2025-04-09T15:15:56.890547Z"
        },
        "id": "0LAd53OgXrOp",
        "outputId": "8b464d8f-3e81-4a80-ae82-414ee271d73d"
      },
      "outputs": [
        {
          "execution_count": 114,
          "output_type": "execute_result",
          "data": {
            "text/plain": "     index                                          file_name          label\n0        0      Arizona sunset with creosote bush_preview.mp4  sunset, cloud\n1        1        _import_616e7f78a17260.13545125_preview.mp4  sunset, cloud\n2        2          200506_Kitchen Food_04_4k_032_preview.mp4  sunset, cloud\n3        3                        Pordeitev_smrek_preview.mp4  sunset, cloud\n4        4         City street time lapse-H264 75_preview.mp4  sunset, cloud\n..     ...                                                ...            ...\n430    430                           Sydney_storm_preview.mp4         animal\n431    431            Alaska spring shrub in wind_preview.mp4         animal\n432    432       190111_16_MuayThaiTraining_HD_04_preview.mp4         animal\n433    433  Ireland Dingle Peninsula road above sea cliffs...         animal\n434    434  026202866-greenland-ice-fjord-mountains-_previ...         animal\n\n[435 rows x 3 columns]",
            "text/html": "<div>\n<style scoped>\n    .dataframe tbody tr th:only-of-type {\n        vertical-align: middle;\n    }\n\n    .dataframe tbody tr th {\n        vertical-align: top;\n    }\n\n    .dataframe thead th {\n        text-align: right;\n    }\n</style>\n<table border=\"1\" class=\"dataframe\">\n  <thead>\n    <tr style=\"text-align: right;\">\n      <th></th>\n      <th>index</th>\n      <th>file_name</th>\n      <th>label</th>\n    </tr>\n  </thead>\n  <tbody>\n    <tr>\n      <th>0</th>\n      <td>0</td>\n      <td>Arizona sunset with creosote bush_preview.mp4</td>\n      <td>sunset, cloud</td>\n    </tr>\n    <tr>\n      <th>1</th>\n      <td>1</td>\n      <td>_import_616e7f78a17260.13545125_preview.mp4</td>\n      <td>sunset, cloud</td>\n    </tr>\n    <tr>\n      <th>2</th>\n      <td>2</td>\n      <td>200506_Kitchen Food_04_4k_032_preview.mp4</td>\n      <td>sunset, cloud</td>\n    </tr>\n    <tr>\n      <th>3</th>\n      <td>3</td>\n      <td>Pordeitev_smrek_preview.mp4</td>\n      <td>sunset, cloud</td>\n    </tr>\n    <tr>\n      <th>4</th>\n      <td>4</td>\n      <td>City street time lapse-H264 75_preview.mp4</td>\n      <td>sunset, cloud</td>\n    </tr>\n    <tr>\n      <th>...</th>\n      <td>...</td>\n      <td>...</td>\n      <td>...</td>\n    </tr>\n    <tr>\n      <th>430</th>\n      <td>430</td>\n      <td>Sydney_storm_preview.mp4</td>\n      <td>animal</td>\n    </tr>\n    <tr>\n      <th>431</th>\n      <td>431</td>\n      <td>Alaska spring shrub in wind_preview.mp4</td>\n      <td>animal</td>\n    </tr>\n    <tr>\n      <th>432</th>\n      <td>432</td>\n      <td>190111_16_MuayThaiTraining_HD_04_preview.mp4</td>\n      <td>animal</td>\n    </tr>\n    <tr>\n      <th>433</th>\n      <td>433</td>\n      <td>Ireland Dingle Peninsula road above sea cliffs...</td>\n      <td>animal</td>\n    </tr>\n    <tr>\n      <th>434</th>\n      <td>434</td>\n      <td>026202866-greenland-ice-fjord-mountains-_previ...</td>\n      <td>animal</td>\n    </tr>\n  </tbody>\n</table>\n<p>435 rows × 3 columns</p>\n</div>"
          },
          "metadata": {}
        }
      ],
      "execution_count": null
    },
    {
      "cell_type": "code",
      "source": [
        "my_submit.columns = ['index', 'file_name', 'label']\n",
        "my_submit['label'] = sample_submit['labels_pred']\n",
        "\n",
        "my_submit['label'] = my_submit['label'].map(id2label)\n",
        "my_submit[['index','file_name', 'label']].to_csv('my_baseline_submit.csv', index=False)"
      ],
      "metadata": {
        "trusted": true,
        "execution": {
          "iopub.status.busy": "2025-04-09T15:15:56.892816Z",
          "iopub.execute_input": "2025-04-09T15:15:56.893116Z",
          "iopub.status.idle": "2025-04-09T15:15:56.90176Z",
          "shell.execute_reply.started": "2025-04-09T15:15:56.893091Z",
          "shell.execute_reply": "2025-04-09T15:15:56.901058Z"
        },
        "id": "2d-YEOXOXrOt"
      },
      "outputs": [],
      "execution_count": null
    }
  ]
}